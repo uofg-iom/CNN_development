{
  "cells": [
    {
      "cell_type": "markdown",
      "metadata": {
        "id": "view-in-github",
        "colab_type": "text"
      },
      "source": [
        "<a href=\"https://colab.research.google.com/github/uofg-iom/CNN_development/blob/google-colab/cnn_dev.ipynb\" target=\"_parent\"><img src=\"https://colab.research.google.com/assets/colab-badge.svg\" alt=\"Open In Colab\"/></a>"
      ]
    },
    {
      "cell_type": "code",
      "source": [
        "%ls\n",
        "!cd .\n",
        "! git status\n",
        "! git pull"
      ],
      "metadata": {
        "colab": {
          "base_uri": "https://localhost:8080/"
        },
        "id": "_WMA9rchLSx6",
        "outputId": "01e77720-e82a-4cf9-d820-a17bc2df18b8"
      },
      "execution_count": 2,
      "outputs": [
        {
          "output_type": "stream",
          "name": "stdout",
          "text": [
            "\u001b[0m\u001b[01;34msample_data\u001b[0m/\n",
            "fatal: not a git repository (or any of the parent directories): .git\n",
            "fatal: not a git repository (or any of the parent directories): .git\n"
          ]
        }
      ]
    },
    {
      "cell_type": "code",
      "source": [
        "!git status"
      ],
      "metadata": {
        "colab": {
          "base_uri": "https://localhost:8080/"
        },
        "id": "Xj9DQNp1Lxls",
        "outputId": "9393709a-74da-41d0-976d-3e413c438496"
      },
      "execution_count": null,
      "outputs": [
        {
          "output_type": "stream",
          "name": "stdout",
          "text": [
            "On branch main\n",
            "Your branch is up to date with 'origin/main'.\n",
            "\n",
            "nothing to commit, working tree clean\n"
          ]
        }
      ]
    },
    {
      "cell_type": "code",
      "source": [
        "!git clone https://github.com/uofg-iom/CNN_development.git"
      ],
      "metadata": {
        "colab": {
          "base_uri": "https://localhost:8080/"
        },
        "id": "TFuw40xeL-sh",
        "outputId": "bbe39430-2fb1-4f93-fb42-cc16af21a202"
      },
      "execution_count": 3,
      "outputs": [
        {
          "output_type": "stream",
          "name": "stdout",
          "text": [
            "Cloning into 'CNN_development'...\n",
            "remote: Enumerating objects: 1714, done.\u001b[K\n",
            "remote: Counting objects: 100% (114/114), done.\u001b[K\n",
            "remote: Compressing objects: 100% (101/101), done.\u001b[K\n",
            "remote: Total 1714 (delta 17), reused 103 (delta 13), pack-reused 1600\u001b[K\n",
            "Receiving objects: 100% (1714/1714), 117.23 MiB | 20.53 MiB/s, done.\n",
            "Resolving deltas: 100% (611/611), done.\n"
          ]
        }
      ]
    },
    {
      "cell_type": "code",
      "source": [
        "%cd /content/CNN_development\n",
        "!git status\n",
        "!git checkout google-colab"
      ],
      "metadata": {
        "colab": {
          "base_uri": "https://localhost:8080/"
        },
        "id": "VhS7pso4NgMQ",
        "outputId": "02ca7d18-5db5-4b09-eeea-c66059ba8559"
      },
      "execution_count": 5,
      "outputs": [
        {
          "output_type": "stream",
          "name": "stdout",
          "text": [
            "/content/CNN_development\n",
            "On branch main\n",
            "Your branch is up to date with 'origin/main'.\n",
            "\n",
            "nothing to commit, working tree clean\n",
            "Branch 'google-colab' set up to track remote branch 'google-colab' from 'origin'.\n",
            "Switched to a new branch 'google-colab'\n"
          ]
        }
      ]
    },
    {
      "cell_type": "markdown",
      "metadata": {
        "id": "Rfwx39HvJmsQ"
      },
      "source": [
        "# Introductory work on CNN development\n",
        "\n",
        "Sources:\n",
        "* Main guide: https://keras.io/getting_started/intro_to_keras_for_engineers/\n",
        "* Augmentation layers: https://keras.io/api/layers/preprocessing_layers/image_augmentation/\n",
        "* Image classification example: https://keras.io/examples/vision/image_classification_from_scratch/\n",
        "\n"
      ]
    },
    {
      "cell_type": "code",
      "execution_count": 6,
      "metadata": {
        "id": "xBBHa-_OJmsV"
      },
      "outputs": [],
      "source": [
        "import numpy as np\n",
        "import tensorflow as tf\n",
        "# from tensorflow import keras\n",
        "from matplotlib import pyplot as plt\n",
        "\n",
        "\n",
        "# Data Augmentation layer can take place as a model layer (synchronous)\n",
        "# or to the dataset (asynchronously) before being passed to the model\n",
        "# The synchronous option benefits from GPU acceleration, however it will be slower when run on a CPU\n",
        "# The asynchronous option is better if we are training on a CPU\n",
        "\n",
        "SYNCHRONOUS_AUGM = False\n",
        "dataset_path = \"00 - Datasets split by class - Watermark Removed\""
      ]
    },
    {
      "cell_type": "markdown",
      "metadata": {
        "id": "2lurser3JmsW"
      },
      "source": [
        "# Load dataset"
      ]
    },
    {
      "cell_type": "code",
      "execution_count": 7,
      "metadata": {
        "colab": {
          "base_uri": "https://localhost:8080/"
        },
        "id": "iRFx7SDPJmsX",
        "outputId": "ce05213d-f032-4f25-ed18-9edc6b73945e"
      },
      "outputs": [
        {
          "output_type": "stream",
          "name": "stdout",
          "text": [
            "Found 1562 files belonging to 5 classes.\n",
            "Using 1250 files for training.\n",
            "Using 312 files for validation.\n",
            "['01 - Acne', '02 - Wrinkles', '03 - Dry skin', '04 - Normal skin', '05 - Oily skin']\n"
          ]
        }
      ],
      "source": [
        "# Load dataset as TensorFlow Dataset Object\n",
        "# Shuffle argument shuffles all images in all classes and places them into batches\n",
        "# If shuffle is false, then the data is placed into batches based on the order in which they are loaded \n",
        "# Image size downsizes the image to the specified resolution, it doesn't crop\n",
        "# If crop_to_aspect_ratio is selected then the image is cropped\n",
        "rescale_image_size = (300,300)\n",
        "ds_batch_size = 16\n",
        "\n",
        "train_ds, val_ds  = tf.keras.utils.image_dataset_from_directory(\n",
        "    dataset_path,\n",
        "    validation_split=0.2,\n",
        "    subset=\"both\",\n",
        "    batch_size=ds_batch_size,\n",
        "    image_size=rescale_image_size,\n",
        "    crop_to_aspect_ratio=False,\n",
        "    color_mode='rgb',\n",
        "    shuffle=True,\n",
        "    seed=100)\n",
        "\n",
        "class_names = train_ds.class_names\n",
        "print(class_names)\n",
        "\n",
        "# For demonstration, iterate over the batches yielded by the dataset.\n",
        "# for data, labels in train_ds:\n",
        "#    print(data.shape)  # (64, 200, 200, 3)\n",
        "#    print(data.dtype)  # float32\n",
        "#    print(labels.shape)  # (64,)\n",
        "#    print(labels.dtype)  # int32\n",
        "\n",
        "\n",
        " \n",
        "sel_batch = 6\n",
        "num_rows = 3\n",
        "num_cols = 3\n",
        "            \n",
        "# plt.figure(figsize=(10, 10))\n",
        "# # .take() selects the batch number to show\n",
        "# for images, labels in train_ds.take(sel_batch):\n",
        "#     for i in range(num_rows*num_cols):\n",
        "#         ax = plt.subplot(num_rows, num_cols, i + 1)\n",
        "#         plt.imshow(images[i].numpy().astype(\"uint8\"))\n",
        "#         plt.title(class_names[labels[i]])\n",
        "#         plt.tight_layout()\n",
        "#         # plt.axis(\"off\")"
      ]
    },
    {
      "cell_type": "markdown",
      "metadata": {
        "id": "t2W5h-43Jmsa"
      },
      "source": [
        "# Create artificial images to increase dataset size\n",
        "\n",
        "Apply image transformations (flip, rotate)\n",
        "\n",
        "# Image Preprocessing\n",
        "\n",
        "Keras comes with preprocessing layers to aid with resizing, cropping, normalization etc.\n",
        "\n",
        "Good to use those so that model accepts raw data (RGB [0,255]) and performs all the preprocessing directly without external API dependencies.\n",
        "\n",
        "Pre-processing can take place before training or during training."
      ]
    },
    {
      "cell_type": "code",
      "execution_count": 8,
      "metadata": {
        "id": "BJi-xld-Jmsa"
      },
      "outputs": [],
      "source": [
        "# \"Filters\" to be applied sequentially to each image\n",
        "data_augmentation = tf.keras.Sequential(\n",
        "    [\n",
        "        tf.keras.layers.RandomFlip(\"horizontal\"),\n",
        "        tf.keras.layers.RandomRotation(0.1),\n",
        "        # tf.keras.layers.RandomCrop(200, 200),\n",
        "        tf.keras.layers.RandomBrightness(0.1),\n",
        "        tf.keras.layers.RandomContrast(0.2), # Computationally expensive\n",
        "        # tf.keras.layers.RandomZoom(0.2, 0.2) # Computationally expensive\n",
        "        # tf.keras.layers.RandomTranslation(height_factor= 0.2, width_factor= 0.2, fill_mode=\"nearest\") # Perhaps too much for this application\n",
        "    ]\n",
        ")\n"
      ]
    },
    {
      "cell_type": "code",
      "source": [
        "# Visualize the output from the applied filters\n",
        "num_pics = 6\n",
        "sel_branch = 6\n",
        "num_rows = 3\n",
        "num_cols = 3\n",
        "for k in range(num_pics):\n",
        "    plt.figure(figsize=(10, 10))\n",
        "    for images, labels in train_ds.take(sel_branch):\n",
        "        for i in range(num_rows*num_cols):\n",
        "            augmented_images = data_augmentation(images)\n",
        "            ax = plt.subplot(num_rows, num_cols, i + 1)\n",
        "            plt.imshow(augmented_images[k].numpy().astype(\"uint8\"))\n",
        "            plt.title(class_names[labels[i]])\n",
        "            plt.tight_layout()"
      ],
      "metadata": {
        "id": "is02vOKFOijy"
      },
      "execution_count": null,
      "outputs": []
    },
    {
      "cell_type": "markdown",
      "metadata": {
        "id": "px92VNqTJmsb"
      },
      "source": [
        "## Pretrained models in Literature\n",
        "In the literature we have seen the following models used:\n",
        "* 2x (Conv + MaxPooling) layers in https://ieeexplore.ieee.org/document/9580174\n",
        "* ResNet 152 model in https://arxiv.org/ftp/arxiv/papers/1907/1907.07901.pdf\n",
        "* AlexNet (5x Conv with some MaxPooling layers in between some layers) in https://www.sciencedirect.com/science/article/pii/S1877050919321295?via%3Dihub\n",
        "* GoogleNet (22 layers deep) (trained on ImageNet dataset) using transfer-learning process in https://link.springer.com/chapter/10.1007/978-981-15-2188-1_14\n",
        "* Custom model (2x (Conv + MaxPooling)) with final Dense layer of shape 7 due to 7 classes in https://www.nature.com/articles/s41598-018-24204-6\n",
        "* Also used VGG16 model in https://www.nature.com/articles/s41598-018-24204-6\n",
        "* GoogleNet in https://link-springer-com.ezproxy.lib.gla.ac.uk/chapter/10.1007/978-3-319-59876-5_53\n",
        "* ResNet50 and ResNet 152 in https://www.frontiersin.org/articles/10.3389/fmed.2021.644327/full\n",
        "* MobileNet has been used in Dragomir https://ieeexplore.ieee.org/document/9301064\n",
        "\n",
        "## Pretrained models available in Keras\n",
        "https://keras.io/api/applications/\n"
      ]
    },
    {
      "cell_type": "markdown",
      "metadata": {
        "id": "CUukSNgWJmsc"
      },
      "source": [
        "# Creating custom model with Keras layers\n",
        "\n",
        "Guide for adding preprocessing layers to `keras.application`, i.e. pre-defined model:\n",
        "https://www.tensorflow.org/guide/keras/preprocessing_layers\n"
      ]
    },
    {
      "cell_type": "code",
      "execution_count": 9,
      "metadata": {
        "colab": {
          "base_uri": "https://localhost:8080/"
        },
        "id": "lhn3A1wxJmsc",
        "outputId": "a6f3480b-5d0b-4d6c-8965-55dfeb79361d"
      },
      "outputs": [
        {
          "output_type": "stream",
          "name": "stdout",
          "text": [
            "Model: \"model\"\n",
            "_________________________________________________________________\n",
            " Layer (type)                Output Shape              Param #   \n",
            "=================================================================\n",
            " input_1 (InputLayer)        [(None, 300, 300, 3)]     0         \n",
            "                                                                 \n",
            " tf.math.truediv (TFOpLambda  (None, 300, 300, 3)      0         \n",
            " )                                                               \n",
            "                                                                 \n",
            " tf.math.subtract (TFOpLambd  (None, 300, 300, 3)      0         \n",
            " a)                                                              \n",
            "                                                                 \n",
            " dropout (Dropout)           (None, 300, 300, 3)       0         \n",
            "                                                                 \n",
            " resnet152v2 (Functional)    (None, 5)                 58341893  \n",
            "                                                                 \n",
            "=================================================================\n",
            "Total params: 58,341,893\n",
            "Trainable params: 58,198,149\n",
            "Non-trainable params: 143,744\n",
            "_________________________________________________________________\n"
          ]
        }
      ],
      "source": [
        "# Data Augmentation layer can take place as a model layer (synchronous)\n",
        "# or to the dataset (asynchronously) before being passed to the model\n",
        "# The synchronous option benefits from GPU acceleration, however it will be slower when run on a CPU\n",
        "# The asynchronous option is better if we are training on a CPU\n",
        "from enum import Enum\n",
        "\n",
        "class ModelType(Enum):\n",
        "    CustomModel = 0\n",
        "    MobileNet = 1\n",
        "    ResNet50 = 2\n",
        "    ResNet152 = 3\n",
        "    VGG16 = 4\n",
        "    Xception = 5\n",
        "\n",
        "\n",
        "def build_model(image_size, num_classes, model_type):\n",
        "    \n",
        "    in_w = image_size[0]\n",
        "    in_h = image_size[1]\n",
        "    \n",
        "    # When input data size is variable\n",
        "    inputs = tf.keras.Input(shape=(in_w, in_h, 3))\n",
        "    # x = tf.keras.layers.CenterCrop(height=200, width=200)(inputs)\n",
        "    # If synchronous, add data augmentation layer as part of the model\n",
        "    if(SYNCHRONOUS_AUGM):\n",
        "        x = data_augmentation(inputs)\n",
        "        # Scaling Layer (scales data into 0.0 - 1.0 range)\n",
        "        x = tf.keras.layers.Rescaling(scale=1.0 / 255)(x)\n",
        "    else:\n",
        "        # Scaling Layer (scales data into 0.0 - 1.0 range)\n",
        "        x = tf.keras.layers.Rescaling(scale=1.0 / 255)(inputs)\n",
        "    \n",
        "    if model_type == ModelType.CustomModel:\n",
        "        \n",
        "        \n",
        "        # ----------- Add Model Layers here ---------------\n",
        "        # Here layers are added randomly as example. See main guide.\n",
        "            \n",
        "        # Apply some convolution and pooling layers\n",
        "        x = tf.keras.layers.Conv2D(128, 3, strides=2, padding=\"same\", activation=\"relu\")(x)\n",
        "        x = tf.keras.layers.MaxPooling2D(3, strides=2, padding=\"same\")(x)\n",
        "        x = tf.keras.layers.BatchNormalization()(x)\n",
        "        x = tf.keras.layers.Conv2D(64, 3, strides=2, padding=\"same\", activation=\"relu\")(x)\n",
        "        x = tf.keras.layers.MaxPooling2D(3, strides=2, padding=\"same\")(x)\n",
        "        x = tf.keras.layers.BatchNormalization()(x)\n",
        "        x = tf.keras.layers.Conv2D(32, 3, strides=2, padding=\"same\", activation=\"relu\")(x)\n",
        "        x = tf.keras.layers.MaxPooling2D(3, strides=2, padding=\"same\")(x)\n",
        "        x = tf.keras.layers.BatchNormalization()(x)\n",
        "        # Apply global average pooling to get flat feature vectors\n",
        "        x = tf.keras.layers.GlobalAveragePooling2D()(x)\n",
        "        # -------------------------------------------------\n",
        "        \n",
        "        \n",
        "        # Dropout layer helps prevent overfitting by setting one input to 0 randomly\n",
        "        # arguement is float from 0-1, fraction of the input units to drop.\n",
        "        x = tf.keras.layers.Dropout(0.1)(x)\n",
        "        outputs = tf.keras.layers.Dense(num_classes, activation=\"softmax\")(x)\n",
        "    \n",
        "    elif model_type == ModelType.ResNet152:\n",
        "        # Following preprocess_input() method is required by ResNet\n",
        "        # See https://www.tensorflow.org/api_docs/python/tf/keras/applications/resnet_v2/ResNet152V2\n",
        "        \n",
        "        x = tf.keras.applications.resnet_v2.preprocess_input(inputs)\n",
        "        x = tf.keras.layers.Dropout(0.1)(x)\n",
        "        outputs = tf.keras.applications.ResNet152V2(\n",
        "            include_top=True,\n",
        "            weights=None,\n",
        "            input_tensor=None,\n",
        "            input_shape=(in_w, in_h, 3),\n",
        "            pooling=\"avg\",\n",
        "            classes=num_classes,\n",
        "            classifier_activation=\"softmax\")(x)\n",
        "        \n",
        "    \n",
        "    return tf.keras.Model(inputs, outputs)\n",
        "    \n",
        "\n",
        "model = build_model(rescale_image_size, len(class_names), ModelType.ResNet152)\n",
        "model.summary()\n"
      ]
    },
    {
      "cell_type": "markdown",
      "metadata": {
        "id": "NkBK7CLHJmsd"
      },
      "source": [
        "## Callbacks to have checkpoints of model during training"
      ]
    },
    {
      "cell_type": "code",
      "source": [
        "# from google.colab import drive\n",
        "# drive.mount('/content/drive')"
      ],
      "metadata": {
        "id": "c-I7DNlDn8pS",
        "outputId": "79073d3f-c091-4308-99c1-815167c6512a",
        "colab": {
          "base_uri": "https://localhost:8080/"
        }
      },
      "execution_count": 12,
      "outputs": [
        {
          "output_type": "stream",
          "name": "stdout",
          "text": [
            "Mounted at /content/drive\n"
          ]
        }
      ]
    },
    {
      "cell_type": "code",
      "execution_count": 36,
      "metadata": {
        "id": "A9BltiMiJmsd"
      },
      "outputs": [],
      "source": [
        "# Adding callbacks to store the model while it is being trained.\n",
        "# Models is saved at the start and end of each batch and epoch\n",
        "model_path = \"./model/\"\n",
        "\n",
        "checkpoint_path = model_path + 'model_chp'\n",
        "google_drive_path = \"/content/drive/MyDrive/Colab Notebooks/trained_model/model_chp\"\n",
        "\n",
        "callbacks = [\n",
        "    tf.keras.callbacks.ModelCheckpoint(\n",
        "        filepath= google_drive_path,\n",
        "        save_freq='epoch',\n",
        "        save_weights_only=True,\n",
        "        save_best_only = True)\n",
        "]"
      ]
    },
    {
      "cell_type": "markdown",
      "metadata": {
        "id": "j6lnbRjGJmsd"
      },
      "source": [
        "# Train Model\n",
        "* Training done with `fit()` method.\n",
        "* Before calling `fit()`, need to set an **optimizer** and a **loss function** \n",
        "\n",
        "Good explanation and example\n",
        "https://www.tensorflow.org/tutorials/images/classification"
      ]
    },
    {
      "cell_type": "code",
      "execution_count": 37,
      "metadata": {
        "id": "TFO8-CdYJmsd"
      },
      "outputs": [],
      "source": [
        "# If asynchronous, train the dataset before passing to the model\n",
        "# If you're training on CPU, this is the better option, since it makes data augmentation asynchronous and non-blocking.\n",
        "# See Image Classification example linked at the top of Notebook\n",
        "if(not SYNCHRONOUS_AUGM):\n",
        "    # Might need to use image data generate class so that the augmented images are kept\n",
        "    augmented_train_ds = train_ds.map(\n",
        "        lambda x, y: (data_augmentation(x, training=True), y),\n",
        "        num_parallel_calls=tf.data.AUTOTUNE)\n",
        "    \n",
        "# Prefetching samples in GPU memory helps maximize GPU utilization.\n",
        "train_ds = train_ds.prefetch(tf.data.AUTOTUNE)\n",
        "val_ds = val_ds.prefetch(tf.data.AUTOTUNE)\n",
        "\n",
        "# --------- Specify Optimizer and Loss function ---------\n",
        "model.compile(\n",
        "    optimizer=tf.keras.optimizers.Adam(1e-3),\n",
        "    loss=\"sparse_categorical_crossentropy\",\n",
        "    metrics=[tf.keras.metrics.SparseCategoricalAccuracy(name=\"acc\")],\n",
        ")\n",
        "\n",
        "# Save the weights using the `checkpoint_path` format\n",
        "model.save_weights(google_drive_path.format(epoch=0))\n"
      ]
    },
    {
      "cell_type": "code",
      "source": [
        "import os\n",
        "\n",
        "print(os.listdir(\"/content/drive/MyDrive/Colab Notebooks/model_epoch_17/\"))\n",
        "\n",
        "model = tf.keras.models.load_model(\"/content/drive/MyDrive/Colab Notebooks/model_epoch_17/\")"
      ],
      "metadata": {
        "id": "zn97FN_nm0sD",
        "outputId": "7c73be2c-7997-4bf6-8020-059936ced671",
        "colab": {
          "base_uri": "https://localhost:8080/"
        }
      },
      "execution_count": 38,
      "outputs": [
        {
          "output_type": "stream",
          "name": "stdout",
          "text": [
            "['saved_model.pb', 'keras_metadata.pb', 'fingerprint.pb', 'variables', 'assets']\n"
          ]
        }
      ]
    },
    {
      "cell_type": "code",
      "source": [
        "# Re-evaluate the model\n",
        "loss, acc = model.evaluate(val_ds)\n",
        "print(\"Restored model, accuracy: {:5.2f}%\".format(100 * acc))"
      ],
      "metadata": {
        "id": "jDbW6PaMpQNC",
        "outputId": "be181969-f603-4d3a-8ca7-e75bcc393783",
        "colab": {
          "base_uri": "https://localhost:8080/"
        }
      },
      "execution_count": 30,
      "outputs": [
        {
          "output_type": "stream",
          "name": "stdout",
          "text": [
            "20/20 [==============================] - 285s 14s/step - loss: 0.7562 - acc: 0.7244\n",
            "Restored model, accuracy: 72.44%\n"
          ]
        }
      ]
    },
    {
      "cell_type": "code",
      "source": [
        "# --------- Train model -------------\n",
        "epochs = 30\n",
        "# steps_per_epoch = 2\n",
        "history = model.fit(\n",
        "    train_ds,\n",
        "    epochs=epochs,\n",
        "    # steps_per_epoch=steps_per_epoch,\n",
        "    callbacks=callbacks,\n",
        "    validation_data=val_ds,\n",
        ")"
      ],
      "metadata": {
        "id": "QxZMJqgRmw5M",
        "outputId": "63b3ee50-ffe0-40b8-f74c-482bbead5d5a",
        "colab": {
          "base_uri": "https://localhost:8080/",
          "height": 432
        }
      },
      "execution_count": 39,
      "outputs": [
        {
          "output_type": "stream",
          "name": "stdout",
          "text": [
            "Epoch 1/30\n",
            " 8/79 [==>...........................] - ETA: 1:07:50 - loss: 0.7670 - acc: 0.7188"
          ]
        },
        {
          "output_type": "error",
          "ename": "KeyboardInterrupt",
          "evalue": "ignored",
          "traceback": [
            "\u001b[0;31m---------------------------------------------------------------------------\u001b[0m",
            "\u001b[0;31mKeyboardInterrupt\u001b[0m                         Traceback (most recent call last)",
            "\u001b[0;32m<ipython-input-39-79a453c434ec>\u001b[0m in \u001b[0;36m<cell line: 4>\u001b[0;34m()\u001b[0m\n\u001b[1;32m      2\u001b[0m \u001b[0mepochs\u001b[0m \u001b[0;34m=\u001b[0m \u001b[0;36m30\u001b[0m\u001b[0;34m\u001b[0m\u001b[0;34m\u001b[0m\u001b[0m\n\u001b[1;32m      3\u001b[0m \u001b[0;31m# steps_per_epoch = 2\u001b[0m\u001b[0;34m\u001b[0m\u001b[0;34m\u001b[0m\u001b[0m\n\u001b[0;32m----> 4\u001b[0;31m history = model.fit(\n\u001b[0m\u001b[1;32m      5\u001b[0m     \u001b[0mtrain_ds\u001b[0m\u001b[0;34m,\u001b[0m\u001b[0;34m\u001b[0m\u001b[0;34m\u001b[0m\u001b[0m\n\u001b[1;32m      6\u001b[0m     \u001b[0mepochs\u001b[0m\u001b[0;34m=\u001b[0m\u001b[0mepochs\u001b[0m\u001b[0;34m,\u001b[0m\u001b[0;34m\u001b[0m\u001b[0;34m\u001b[0m\u001b[0m\n",
            "\u001b[0;32m/usr/local/lib/python3.9/dist-packages/keras/utils/traceback_utils.py\u001b[0m in \u001b[0;36merror_handler\u001b[0;34m(*args, **kwargs)\u001b[0m\n\u001b[1;32m     63\u001b[0m         \u001b[0mfiltered_tb\u001b[0m \u001b[0;34m=\u001b[0m \u001b[0;32mNone\u001b[0m\u001b[0;34m\u001b[0m\u001b[0;34m\u001b[0m\u001b[0m\n\u001b[1;32m     64\u001b[0m         \u001b[0;32mtry\u001b[0m\u001b[0;34m:\u001b[0m\u001b[0;34m\u001b[0m\u001b[0;34m\u001b[0m\u001b[0m\n\u001b[0;32m---> 65\u001b[0;31m             \u001b[0;32mreturn\u001b[0m \u001b[0mfn\u001b[0m\u001b[0;34m(\u001b[0m\u001b[0;34m*\u001b[0m\u001b[0margs\u001b[0m\u001b[0;34m,\u001b[0m \u001b[0;34m**\u001b[0m\u001b[0mkwargs\u001b[0m\u001b[0;34m)\u001b[0m\u001b[0;34m\u001b[0m\u001b[0;34m\u001b[0m\u001b[0m\n\u001b[0m\u001b[1;32m     66\u001b[0m         \u001b[0;32mexcept\u001b[0m \u001b[0mException\u001b[0m \u001b[0;32mas\u001b[0m \u001b[0me\u001b[0m\u001b[0;34m:\u001b[0m\u001b[0;34m\u001b[0m\u001b[0;34m\u001b[0m\u001b[0m\n\u001b[1;32m     67\u001b[0m             \u001b[0mfiltered_tb\u001b[0m \u001b[0;34m=\u001b[0m \u001b[0m_process_traceback_frames\u001b[0m\u001b[0;34m(\u001b[0m\u001b[0me\u001b[0m\u001b[0;34m.\u001b[0m\u001b[0m__traceback__\u001b[0m\u001b[0;34m)\u001b[0m\u001b[0;34m\u001b[0m\u001b[0;34m\u001b[0m\u001b[0m\n",
            "\u001b[0;32m/usr/local/lib/python3.9/dist-packages/keras/engine/training.py\u001b[0m in \u001b[0;36mfit\u001b[0;34m(self, x, y, batch_size, epochs, verbose, callbacks, validation_split, validation_data, shuffle, class_weight, sample_weight, initial_epoch, steps_per_epoch, validation_steps, validation_batch_size, validation_freq, max_queue_size, workers, use_multiprocessing)\u001b[0m\n\u001b[1;32m   1683\u001b[0m                         ):\n\u001b[1;32m   1684\u001b[0m                             \u001b[0mcallbacks\u001b[0m\u001b[0;34m.\u001b[0m\u001b[0mon_train_batch_begin\u001b[0m\u001b[0;34m(\u001b[0m\u001b[0mstep\u001b[0m\u001b[0;34m)\u001b[0m\u001b[0;34m\u001b[0m\u001b[0;34m\u001b[0m\u001b[0m\n\u001b[0;32m-> 1685\u001b[0;31m                             \u001b[0mtmp_logs\u001b[0m \u001b[0;34m=\u001b[0m \u001b[0mself\u001b[0m\u001b[0;34m.\u001b[0m\u001b[0mtrain_function\u001b[0m\u001b[0;34m(\u001b[0m\u001b[0miterator\u001b[0m\u001b[0;34m)\u001b[0m\u001b[0;34m\u001b[0m\u001b[0;34m\u001b[0m\u001b[0m\n\u001b[0m\u001b[1;32m   1686\u001b[0m                             \u001b[0;32mif\u001b[0m \u001b[0mdata_handler\u001b[0m\u001b[0;34m.\u001b[0m\u001b[0mshould_sync\u001b[0m\u001b[0;34m:\u001b[0m\u001b[0;34m\u001b[0m\u001b[0;34m\u001b[0m\u001b[0m\n\u001b[1;32m   1687\u001b[0m                                 \u001b[0mcontext\u001b[0m\u001b[0;34m.\u001b[0m\u001b[0masync_wait\u001b[0m\u001b[0;34m(\u001b[0m\u001b[0;34m)\u001b[0m\u001b[0;34m\u001b[0m\u001b[0;34m\u001b[0m\u001b[0m\n",
            "\u001b[0;32m/usr/local/lib/python3.9/dist-packages/tensorflow/python/util/traceback_utils.py\u001b[0m in \u001b[0;36merror_handler\u001b[0;34m(*args, **kwargs)\u001b[0m\n\u001b[1;32m    148\u001b[0m     \u001b[0mfiltered_tb\u001b[0m \u001b[0;34m=\u001b[0m \u001b[0;32mNone\u001b[0m\u001b[0;34m\u001b[0m\u001b[0;34m\u001b[0m\u001b[0m\n\u001b[1;32m    149\u001b[0m     \u001b[0;32mtry\u001b[0m\u001b[0;34m:\u001b[0m\u001b[0;34m\u001b[0m\u001b[0;34m\u001b[0m\u001b[0m\n\u001b[0;32m--> 150\u001b[0;31m       \u001b[0;32mreturn\u001b[0m \u001b[0mfn\u001b[0m\u001b[0;34m(\u001b[0m\u001b[0;34m*\u001b[0m\u001b[0margs\u001b[0m\u001b[0;34m,\u001b[0m \u001b[0;34m**\u001b[0m\u001b[0mkwargs\u001b[0m\u001b[0;34m)\u001b[0m\u001b[0;34m\u001b[0m\u001b[0;34m\u001b[0m\u001b[0m\n\u001b[0m\u001b[1;32m    151\u001b[0m     \u001b[0;32mexcept\u001b[0m \u001b[0mException\u001b[0m \u001b[0;32mas\u001b[0m \u001b[0me\u001b[0m\u001b[0;34m:\u001b[0m\u001b[0;34m\u001b[0m\u001b[0;34m\u001b[0m\u001b[0m\n\u001b[1;32m    152\u001b[0m       \u001b[0mfiltered_tb\u001b[0m \u001b[0;34m=\u001b[0m \u001b[0m_process_traceback_frames\u001b[0m\u001b[0;34m(\u001b[0m\u001b[0me\u001b[0m\u001b[0;34m.\u001b[0m\u001b[0m__traceback__\u001b[0m\u001b[0;34m)\u001b[0m\u001b[0;34m\u001b[0m\u001b[0;34m\u001b[0m\u001b[0m\n",
            "\u001b[0;32m/usr/local/lib/python3.9/dist-packages/tensorflow/python/eager/polymorphic_function/polymorphic_function.py\u001b[0m in \u001b[0;36m__call__\u001b[0;34m(self, *args, **kwds)\u001b[0m\n\u001b[1;32m    892\u001b[0m \u001b[0;34m\u001b[0m\u001b[0m\n\u001b[1;32m    893\u001b[0m       \u001b[0;32mwith\u001b[0m \u001b[0mOptionalXlaContext\u001b[0m\u001b[0;34m(\u001b[0m\u001b[0mself\u001b[0m\u001b[0;34m.\u001b[0m\u001b[0m_jit_compile\u001b[0m\u001b[0;34m)\u001b[0m\u001b[0;34m:\u001b[0m\u001b[0;34m\u001b[0m\u001b[0;34m\u001b[0m\u001b[0m\n\u001b[0;32m--> 894\u001b[0;31m         \u001b[0mresult\u001b[0m \u001b[0;34m=\u001b[0m \u001b[0mself\u001b[0m\u001b[0;34m.\u001b[0m\u001b[0m_call\u001b[0m\u001b[0;34m(\u001b[0m\u001b[0;34m*\u001b[0m\u001b[0margs\u001b[0m\u001b[0;34m,\u001b[0m \u001b[0;34m**\u001b[0m\u001b[0mkwds\u001b[0m\u001b[0;34m)\u001b[0m\u001b[0;34m\u001b[0m\u001b[0;34m\u001b[0m\u001b[0m\n\u001b[0m\u001b[1;32m    895\u001b[0m \u001b[0;34m\u001b[0m\u001b[0m\n\u001b[1;32m    896\u001b[0m       \u001b[0mnew_tracing_count\u001b[0m \u001b[0;34m=\u001b[0m \u001b[0mself\u001b[0m\u001b[0;34m.\u001b[0m\u001b[0mexperimental_get_tracing_count\u001b[0m\u001b[0;34m(\u001b[0m\u001b[0;34m)\u001b[0m\u001b[0;34m\u001b[0m\u001b[0;34m\u001b[0m\u001b[0m\n",
            "\u001b[0;32m/usr/local/lib/python3.9/dist-packages/tensorflow/python/eager/polymorphic_function/polymorphic_function.py\u001b[0m in \u001b[0;36m_call\u001b[0;34m(self, *args, **kwds)\u001b[0m\n\u001b[1;32m    924\u001b[0m       \u001b[0;31m# In this case we have created variables on the first call, so we run the\u001b[0m\u001b[0;34m\u001b[0m\u001b[0;34m\u001b[0m\u001b[0m\n\u001b[1;32m    925\u001b[0m       \u001b[0;31m# defunned version which is guaranteed to never create variables.\u001b[0m\u001b[0;34m\u001b[0m\u001b[0;34m\u001b[0m\u001b[0m\n\u001b[0;32m--> 926\u001b[0;31m       \u001b[0;32mreturn\u001b[0m \u001b[0mself\u001b[0m\u001b[0;34m.\u001b[0m\u001b[0m_no_variable_creation_fn\u001b[0m\u001b[0;34m(\u001b[0m\u001b[0;34m*\u001b[0m\u001b[0margs\u001b[0m\u001b[0;34m,\u001b[0m \u001b[0;34m**\u001b[0m\u001b[0mkwds\u001b[0m\u001b[0;34m)\u001b[0m  \u001b[0;31m# pylint: disable=not-callable\u001b[0m\u001b[0;34m\u001b[0m\u001b[0;34m\u001b[0m\u001b[0m\n\u001b[0m\u001b[1;32m    927\u001b[0m     \u001b[0;32melif\u001b[0m \u001b[0mself\u001b[0m\u001b[0;34m.\u001b[0m\u001b[0m_variable_creation_fn\u001b[0m \u001b[0;32mis\u001b[0m \u001b[0;32mnot\u001b[0m \u001b[0;32mNone\u001b[0m\u001b[0;34m:\u001b[0m\u001b[0;34m\u001b[0m\u001b[0;34m\u001b[0m\u001b[0m\n\u001b[1;32m    928\u001b[0m       \u001b[0;31m# Release the lock early so that multiple threads can perform the call\u001b[0m\u001b[0;34m\u001b[0m\u001b[0;34m\u001b[0m\u001b[0m\n",
            "\u001b[0;32m/usr/local/lib/python3.9/dist-packages/tensorflow/python/eager/polymorphic_function/tracing_compiler.py\u001b[0m in \u001b[0;36m__call__\u001b[0;34m(self, *args, **kwargs)\u001b[0m\n\u001b[1;32m    141\u001b[0m       (concrete_function,\n\u001b[1;32m    142\u001b[0m        filtered_flat_args) = self._maybe_define_function(args, kwargs)\n\u001b[0;32m--> 143\u001b[0;31m     return concrete_function._call_flat(\n\u001b[0m\u001b[1;32m    144\u001b[0m         filtered_flat_args, captured_inputs=concrete_function.captured_inputs)  # pylint: disable=protected-access\n\u001b[1;32m    145\u001b[0m \u001b[0;34m\u001b[0m\u001b[0m\n",
            "\u001b[0;32m/usr/local/lib/python3.9/dist-packages/tensorflow/python/eager/polymorphic_function/monomorphic_function.py\u001b[0m in \u001b[0;36m_call_flat\u001b[0;34m(self, args, captured_inputs, cancellation_manager)\u001b[0m\n\u001b[1;32m   1755\u001b[0m         and executing_eagerly):\n\u001b[1;32m   1756\u001b[0m       \u001b[0;31m# No tape is watching; skip to running the function.\u001b[0m\u001b[0;34m\u001b[0m\u001b[0;34m\u001b[0m\u001b[0m\n\u001b[0;32m-> 1757\u001b[0;31m       return self._build_call_outputs(self._inference_function.call(\n\u001b[0m\u001b[1;32m   1758\u001b[0m           ctx, args, cancellation_manager=cancellation_manager))\n\u001b[1;32m   1759\u001b[0m     forward_backward = self._select_forward_and_backward_functions(\n",
            "\u001b[0;32m/usr/local/lib/python3.9/dist-packages/tensorflow/python/eager/polymorphic_function/monomorphic_function.py\u001b[0m in \u001b[0;36mcall\u001b[0;34m(self, ctx, args, cancellation_manager)\u001b[0m\n\u001b[1;32m    379\u001b[0m       \u001b[0;32mwith\u001b[0m \u001b[0m_InterpolateFunctionError\u001b[0m\u001b[0;34m(\u001b[0m\u001b[0mself\u001b[0m\u001b[0;34m)\u001b[0m\u001b[0;34m:\u001b[0m\u001b[0;34m\u001b[0m\u001b[0;34m\u001b[0m\u001b[0m\n\u001b[1;32m    380\u001b[0m         \u001b[0;32mif\u001b[0m \u001b[0mcancellation_manager\u001b[0m \u001b[0;32mis\u001b[0m \u001b[0;32mNone\u001b[0m\u001b[0;34m:\u001b[0m\u001b[0;34m\u001b[0m\u001b[0;34m\u001b[0m\u001b[0m\n\u001b[0;32m--> 381\u001b[0;31m           outputs = execute.execute(\n\u001b[0m\u001b[1;32m    382\u001b[0m               \u001b[0mstr\u001b[0m\u001b[0;34m(\u001b[0m\u001b[0mself\u001b[0m\u001b[0;34m.\u001b[0m\u001b[0msignature\u001b[0m\u001b[0;34m.\u001b[0m\u001b[0mname\u001b[0m\u001b[0;34m)\u001b[0m\u001b[0;34m,\u001b[0m\u001b[0;34m\u001b[0m\u001b[0;34m\u001b[0m\u001b[0m\n\u001b[1;32m    383\u001b[0m               \u001b[0mnum_outputs\u001b[0m\u001b[0;34m=\u001b[0m\u001b[0mself\u001b[0m\u001b[0;34m.\u001b[0m\u001b[0m_num_outputs\u001b[0m\u001b[0;34m,\u001b[0m\u001b[0;34m\u001b[0m\u001b[0;34m\u001b[0m\u001b[0m\n",
            "\u001b[0;32m/usr/local/lib/python3.9/dist-packages/tensorflow/python/eager/execute.py\u001b[0m in \u001b[0;36mquick_execute\u001b[0;34m(op_name, num_outputs, inputs, attrs, ctx, name)\u001b[0m\n\u001b[1;32m     50\u001b[0m   \u001b[0;32mtry\u001b[0m\u001b[0;34m:\u001b[0m\u001b[0;34m\u001b[0m\u001b[0;34m\u001b[0m\u001b[0m\n\u001b[1;32m     51\u001b[0m     \u001b[0mctx\u001b[0m\u001b[0;34m.\u001b[0m\u001b[0mensure_initialized\u001b[0m\u001b[0;34m(\u001b[0m\u001b[0;34m)\u001b[0m\u001b[0;34m\u001b[0m\u001b[0;34m\u001b[0m\u001b[0m\n\u001b[0;32m---> 52\u001b[0;31m     tensors = pywrap_tfe.TFE_Py_Execute(ctx._handle, device_name, op_name,\n\u001b[0m\u001b[1;32m     53\u001b[0m                                         inputs, attrs, num_outputs)\n\u001b[1;32m     54\u001b[0m   \u001b[0;32mexcept\u001b[0m \u001b[0mcore\u001b[0m\u001b[0;34m.\u001b[0m\u001b[0m_NotOkStatusException\u001b[0m \u001b[0;32mas\u001b[0m \u001b[0me\u001b[0m\u001b[0;34m:\u001b[0m\u001b[0;34m\u001b[0m\u001b[0;34m\u001b[0m\u001b[0m\n",
            "\u001b[0;31mKeyboardInterrupt\u001b[0m: "
          ]
        }
      ]
    },
    {
      "cell_type": "markdown",
      "source": [
        "# Visualisation of Performance"
      ],
      "metadata": {
        "id": "JasS5_BVtE2a"
      }
    },
    {
      "cell_type": "code",
      "source": [
        "acc = history.history['acc']\n",
        "val_acc = history.history['val_acc']\n",
        "\n",
        "loss = history.history['loss']\n",
        "val_loss = history.history['val_loss']\n",
        "\n",
        "epochs_range = range(epochs)\n",
        "\n",
        "plt.figure(figsize=(12, 6))\n",
        "plt.subplot(1, 2, 1)\n",
        "plt.plot(epochs_range, acc, label='Training Accuracy')\n",
        "plt.plot(epochs_range, val_acc, label='Validation Accuracy')\n",
        "plt.legend(loc='lower right')\n",
        "plt.title('Training and Validation Accuracy')\n",
        "\n",
        "plt.subplot(1, 2, 2)\n",
        "plt.plot(epochs_range, loss, label='Training Loss')\n",
        "plt.plot(epochs_range, val_loss, label='Validation Loss')\n",
        "plt.legend(loc='upper right')\n",
        "plt.title('Training and Validation Loss')\n",
        "plt.show()"
      ],
      "metadata": {
        "colab": {
          "base_uri": "https://localhost:8080/",
          "height": 244
        },
        "id": "W0lGnorPtEnC",
        "outputId": "373224e2-cced-48a1-de37-359b8cc29967"
      },
      "execution_count": null,
      "outputs": [
        {
          "output_type": "error",
          "ename": "NameError",
          "evalue": "ignored",
          "traceback": [
            "\u001b[0;31m---------------------------------------------------------------------------\u001b[0m",
            "\u001b[0;31mNameError\u001b[0m                                 Traceback (most recent call last)",
            "\u001b[0;32m<ipython-input-1-f1a735c0a32c>\u001b[0m in \u001b[0;36m<cell line: 1>\u001b[0;34m()\u001b[0m\n\u001b[0;32m----> 1\u001b[0;31m \u001b[0macc\u001b[0m \u001b[0;34m=\u001b[0m \u001b[0mhistory\u001b[0m\u001b[0;34m.\u001b[0m\u001b[0mhistory\u001b[0m\u001b[0;34m[\u001b[0m\u001b[0;34m'acc'\u001b[0m\u001b[0;34m]\u001b[0m\u001b[0;34m\u001b[0m\u001b[0;34m\u001b[0m\u001b[0m\n\u001b[0m\u001b[1;32m      2\u001b[0m \u001b[0mval_acc\u001b[0m \u001b[0;34m=\u001b[0m \u001b[0mhistory\u001b[0m\u001b[0;34m.\u001b[0m\u001b[0mhistory\u001b[0m\u001b[0;34m[\u001b[0m\u001b[0;34m'val_acc'\u001b[0m\u001b[0;34m]\u001b[0m\u001b[0;34m\u001b[0m\u001b[0;34m\u001b[0m\u001b[0m\n\u001b[1;32m      3\u001b[0m \u001b[0;34m\u001b[0m\u001b[0m\n\u001b[1;32m      4\u001b[0m \u001b[0mloss\u001b[0m \u001b[0;34m=\u001b[0m \u001b[0mhistory\u001b[0m\u001b[0;34m.\u001b[0m\u001b[0mhistory\u001b[0m\u001b[0;34m[\u001b[0m\u001b[0;34m'loss'\u001b[0m\u001b[0;34m]\u001b[0m\u001b[0;34m\u001b[0m\u001b[0;34m\u001b[0m\u001b[0m\n\u001b[1;32m      5\u001b[0m \u001b[0mval_loss\u001b[0m \u001b[0;34m=\u001b[0m \u001b[0mhistory\u001b[0m\u001b[0;34m.\u001b[0m\u001b[0mhistory\u001b[0m\u001b[0;34m[\u001b[0m\u001b[0;34m'val_loss'\u001b[0m\u001b[0;34m]\u001b[0m\u001b[0;34m\u001b[0m\u001b[0;34m\u001b[0m\u001b[0m\n",
            "\u001b[0;31mNameError\u001b[0m: name 'history' is not defined"
          ]
        }
      ]
    },
    {
      "cell_type": "markdown",
      "source": [
        "# Load pre-stored model and continue training"
      ],
      "metadata": {
        "id": "PZEXJrDZ7sHv"
      }
    },
    {
      "cell_type": "code",
      "source": [
        "# --------- Continue Training model -------------\n",
        "epochs = 60\n",
        "# steps_per_epoch = 2\n",
        "history = model.fit(\n",
        "    train_ds,\n",
        "    epochs=epochs,\n",
        "    # steps_per_epoch=steps_per_epoch,\n",
        "    callbacks=callbacks,\n",
        "    validation_data=val_ds,\n",
        ")"
      ],
      "metadata": {
        "colab": {
          "base_uri": "https://localhost:8080/"
        },
        "id": "PFsEylaCAahb",
        "outputId": "1e50aaed-15cb-4178-e3c4-025c008289ef"
      },
      "execution_count": null,
      "outputs": [
        {
          "output_type": "stream",
          "name": "stdout",
          "text": [
            "Epoch 1/60\n",
            "79/79 [==============================] - 55s 690ms/step - loss: 0.7684 - acc: 0.7328 - val_loss: 1.3592 - val_acc: 0.6090\n",
            "Epoch 2/60\n",
            "79/79 [==============================] - ETA: 0s - loss: 0.7444 - acc: 0.7456"
          ]
        },
        {
          "output_type": "stream",
          "name": "stderr",
          "text": [
            "WARNING:absl:Found untraced functions such as _jit_compiled_convolution_op, _jit_compiled_convolution_op, _jit_compiled_convolution_op, _jit_compiled_convolution_op, _jit_compiled_convolution_op while saving (showing 5 of 155). These functions will not be directly callable after loading.\n"
          ]
        },
        {
          "output_type": "stream",
          "name": "stdout",
          "text": [
            "\b\b\b\b\b\b\b\b\b\b\b\b\b\b\b\b\b\b\b\b\b\b\b\b\b\b\b\b\b\b\b\b\b\b\b\b\b\b\b\b\b\b\b\b\b\b\b\b\b\b\b\b\b\b\b\b\b\b\b\b\b\b\b\b\b\b\b\b\b\b\b\b\b\b\b\b\b\r79/79 [==============================] - 150s 2s/step - loss: 0.7444 - acc: 0.7456 - val_loss: 0.6725 - val_acc: 0.7468\n",
            "Epoch 3/60\n",
            "79/79 [==============================] - 57s 722ms/step - loss: 0.7134 - acc: 0.7568 - val_loss: 0.7032 - val_acc: 0.7436\n",
            "Epoch 4/60\n",
            "79/79 [==============================] - 59s 746ms/step - loss: 0.7467 - acc: 0.7400 - val_loss: 1.2373 - val_acc: 0.5897\n",
            "Epoch 5/60\n",
            "79/79 [==============================] - ETA: 0s - loss: 0.7064 - acc: 0.7464"
          ]
        },
        {
          "output_type": "stream",
          "name": "stderr",
          "text": [
            "WARNING:absl:Found untraced functions such as _jit_compiled_convolution_op, _jit_compiled_convolution_op, _jit_compiled_convolution_op, _jit_compiled_convolution_op, _jit_compiled_convolution_op while saving (showing 5 of 155). These functions will not be directly callable after loading.\n"
          ]
        },
        {
          "output_type": "stream",
          "name": "stdout",
          "text": [
            "\b\b\b\b\b\b\b\b\b\b\b\b\b\b\b\b\b\b\b\b\b\b\b\b\b\b\b\b\b\b\b\b\b\b\b\b\b\b\b\b\b\b\b\b\b\b\b\b\b\b\b\b\b\b\b\b\b\b\b\b\b\b\b\b\b\b\b\b\b\b\b\b\b\b\b\b\b\r79/79 [==============================] - 150s 2s/step - loss: 0.7064 - acc: 0.7464 - val_loss: 0.6582 - val_acc: 0.7532\n",
            "Epoch 6/60\n",
            "79/79 [==============================] - 58s 730ms/step - loss: 0.6848 - acc: 0.7576 - val_loss: 0.8812 - val_acc: 0.7308\n",
            "Epoch 7/60\n",
            "79/79 [==============================] - 60s 756ms/step - loss: 0.6496 - acc: 0.7624 - val_loss: 0.7708 - val_acc: 0.6795\n",
            "Epoch 8/60\n",
            "79/79 [==============================] - 59s 747ms/step - loss: 0.6467 - acc: 0.7736 - val_loss: 0.7266 - val_acc: 0.7372\n",
            "Epoch 9/60\n",
            "79/79 [==============================] - 61s 768ms/step - loss: 0.6479 - acc: 0.7688 - val_loss: 1.1576 - val_acc: 0.7436\n",
            "Epoch 10/60\n",
            "79/79 [==============================] - 60s 754ms/step - loss: 0.6190 - acc: 0.7768 - val_loss: 0.7190 - val_acc: 0.6987\n",
            "Epoch 11/60\n",
            "79/79 [==============================] - 59s 741ms/step - loss: 0.6312 - acc: 0.7720 - val_loss: 0.7138 - val_acc: 0.7724\n",
            "Epoch 12/60\n",
            "79/79 [==============================] - 59s 746ms/step - loss: 0.6144 - acc: 0.7736 - val_loss: 0.7505 - val_acc: 0.7019\n",
            "Epoch 13/60\n",
            "79/79 [==============================] - 59s 747ms/step - loss: 0.6015 - acc: 0.7864 - val_loss: 0.9310 - val_acc: 0.7083\n",
            "Epoch 14/60\n",
            "79/79 [==============================] - 59s 745ms/step - loss: 0.6584 - acc: 0.7640 - val_loss: 1.0303 - val_acc: 0.6603\n",
            "Epoch 15/60\n",
            "79/79 [==============================] - ETA: 0s - loss: 0.5990 - acc: 0.7888"
          ]
        },
        {
          "output_type": "stream",
          "name": "stderr",
          "text": [
            "WARNING:absl:Found untraced functions such as _jit_compiled_convolution_op, _jit_compiled_convolution_op, _jit_compiled_convolution_op, _jit_compiled_convolution_op, _jit_compiled_convolution_op while saving (showing 5 of 155). These functions will not be directly callable after loading.\n"
          ]
        },
        {
          "output_type": "stream",
          "name": "stdout",
          "text": [
            "\b\b\b\b\b\b\b\b\b\b\b\b\b\b\b\b\b\b\b\b\b\b\b\b\b\b\b\b\b\b\b\b\b\b\b\b\b\b\b\b\b\b\b\b\b\b\b\b\b\b\b\b\b\b\b\b\b\b\b\b\b\b\b\b\b\b\b\b\b\b\b\b\b\b\b\b\b\r79/79 [==============================] - 148s 2s/step - loss: 0.5990 - acc: 0.7888 - val_loss: 0.6240 - val_acc: 0.7372\n",
            "Epoch 16/60\n",
            "79/79 [==============================] - ETA: 0s - loss: 0.5838 - acc: 0.7920"
          ]
        },
        {
          "output_type": "stream",
          "name": "stderr",
          "text": [
            "WARNING:absl:Found untraced functions such as _jit_compiled_convolution_op, _jit_compiled_convolution_op, _jit_compiled_convolution_op, _jit_compiled_convolution_op, _jit_compiled_convolution_op while saving (showing 5 of 155). These functions will not be directly callable after loading.\n"
          ]
        },
        {
          "output_type": "stream",
          "name": "stdout",
          "text": [
            "\b\b\b\b\b\b\b\b\b\b\b\b\b\b\b\b\b\b\b\b\b\b\b\b\b\b\b\b\b\b\b\b\b\b\b\b\b\b\b\b\b\b\b\b\b\b\b\b\b\b\b\b\b\b\b\b\b\b\b\b\b\b\b\b\b\b\b\b\b\b\b\b\b\b\b\b\b\r79/79 [==============================] - 149s 2s/step - loss: 0.5838 - acc: 0.7920 - val_loss: 0.6106 - val_acc: 0.7821\n",
            "Epoch 17/60\n",
            "79/79 [==============================] - ETA: 0s - loss: 0.5839 - acc: 0.7944"
          ]
        },
        {
          "output_type": "stream",
          "name": "stderr",
          "text": [
            "WARNING:absl:Found untraced functions such as _jit_compiled_convolution_op, _jit_compiled_convolution_op, _jit_compiled_convolution_op, _jit_compiled_convolution_op, _jit_compiled_convolution_op while saving (showing 5 of 155). These functions will not be directly callable after loading.\n"
          ]
        },
        {
          "output_type": "stream",
          "name": "stdout",
          "text": [
            "\b\b\b\b\b\b\b\b\b\b\b\b\b\b\b\b\b\b\b\b\b\b\b\b\b\b\b\b\b\b\b\b\b\b\b\b\b\b\b\b\b\b\b\b\b\b\b\b\b\b\b\b\b\b\b\b\b\b\b\b\b\b\b\b\b\b\b\b\b\b\b\b\b\b\b\b\b\r79/79 [==============================] - 146s 2s/step - loss: 0.5839 - acc: 0.7944 - val_loss: 0.5890 - val_acc: 0.8013\n",
            "Epoch 18/60\n",
            "79/79 [==============================] - ETA: 0s - loss: 0.5731 - acc: 0.7936"
          ]
        },
        {
          "output_type": "stream",
          "name": "stderr",
          "text": [
            "WARNING:absl:Found untraced functions such as _jit_compiled_convolution_op, _jit_compiled_convolution_op, _jit_compiled_convolution_op, _jit_compiled_convolution_op, _jit_compiled_convolution_op while saving (showing 5 of 155). These functions will not be directly callable after loading.\n"
          ]
        },
        {
          "output_type": "stream",
          "name": "stdout",
          "text": [
            "\b\b\b\b\b\b\b\b\b\b\b\b\b\b\b\b\b\b\b\b\b\b\b\b\b\b\b\b\b\b\b\b\b\b\b\b\b\b\b\b\b\b\b\b\b\b\b\b\b\b\b\b\b\b\b\b\b\b\b\b\b\b\b\b\b\b\b\b\b\b\b\b\b\b\b\b\b\r79/79 [==============================] - 146s 2s/step - loss: 0.5731 - acc: 0.7936 - val_loss: 0.4982 - val_acc: 0.8109\n",
            "Epoch 19/60\n",
            "79/79 [==============================] - 57s 712ms/step - loss: 0.5537 - acc: 0.8072 - val_loss: 0.5776 - val_acc: 0.7885\n",
            "Epoch 20/60\n",
            "79/79 [==============================] - 59s 740ms/step - loss: 0.5239 - acc: 0.8040 - val_loss: 0.7303 - val_acc: 0.7821\n",
            "Epoch 21/60\n",
            "79/79 [==============================] - 60s 757ms/step - loss: 0.5579 - acc: 0.8040 - val_loss: 0.5990 - val_acc: 0.7724\n",
            "Epoch 22/60\n",
            "79/79 [==============================] - 60s 755ms/step - loss: 0.5184 - acc: 0.8064 - val_loss: 0.7227 - val_acc: 0.7308\n",
            "Epoch 23/60\n",
            "79/79 [==============================] - 60s 754ms/step - loss: 0.5017 - acc: 0.8200 - val_loss: 0.5701 - val_acc: 0.7885\n",
            "Epoch 24/60\n",
            "79/79 [==============================] - 59s 742ms/step - loss: 0.5025 - acc: 0.8088 - val_loss: 0.6718 - val_acc: 0.7372\n",
            "Epoch 25/60\n",
            "79/79 [==============================] - 60s 758ms/step - loss: 0.4855 - acc: 0.8256 - val_loss: 0.6415 - val_acc: 0.7692\n",
            "Epoch 26/60\n",
            "79/79 [==============================] - 59s 741ms/step - loss: 0.5540 - acc: 0.7960 - val_loss: 0.9566 - val_acc: 0.7147\n",
            "Epoch 27/60\n",
            "79/79 [==============================] - 59s 743ms/step - loss: 0.4766 - acc: 0.8304 - val_loss: 0.5877 - val_acc: 0.7756\n",
            "Epoch 28/60\n",
            "79/79 [==============================] - 59s 745ms/step - loss: 0.4342 - acc: 0.8408 - val_loss: 0.5765 - val_acc: 0.7821\n",
            "Epoch 29/60\n",
            "79/79 [==============================] - 59s 746ms/step - loss: 0.5234 - acc: 0.8072 - val_loss: 0.5840 - val_acc: 0.7821\n",
            "Epoch 30/60\n",
            "79/79 [==============================] - 60s 755ms/step - loss: 0.4972 - acc: 0.8184 - val_loss: 0.5878 - val_acc: 0.7853\n",
            "Epoch 31/60\n",
            "79/79 [==============================] - 59s 742ms/step - loss: 0.5148 - acc: 0.8120 - val_loss: 0.6643 - val_acc: 0.7147\n",
            "Epoch 32/60\n",
            "79/79 [==============================] - 60s 757ms/step - loss: 0.4819 - acc: 0.8256 - val_loss: 0.7406 - val_acc: 0.7660\n",
            "Epoch 33/60\n",
            "79/79 [==============================] - 60s 754ms/step - loss: 0.4620 - acc: 0.8280 - val_loss: 0.5649 - val_acc: 0.7981\n",
            "Epoch 34/60\n",
            "79/79 [==============================] - 59s 739ms/step - loss: 0.4479 - acc: 0.8336 - val_loss: 0.5490 - val_acc: 0.8013\n",
            "Epoch 35/60\n",
            "79/79 [==============================] - 59s 745ms/step - loss: 0.4345 - acc: 0.8392 - val_loss: 0.6463 - val_acc: 0.7660\n",
            "Epoch 36/60\n",
            "79/79 [==============================] - 59s 745ms/step - loss: 0.4374 - acc: 0.8456 - val_loss: 0.8503 - val_acc: 0.7179\n",
            "Epoch 37/60\n",
            "79/79 [==============================] - 60s 756ms/step - loss: 0.4521 - acc: 0.8448 - val_loss: 0.6551 - val_acc: 0.7821\n",
            "Epoch 38/60\n",
            "79/79 [==============================] - 59s 741ms/step - loss: 0.3698 - acc: 0.8752 - val_loss: 0.6571 - val_acc: 0.7436\n",
            "Epoch 39/60\n",
            "79/79 [==============================] - 59s 745ms/step - loss: 0.4566 - acc: 0.8376 - val_loss: 0.8040 - val_acc: 0.7532\n",
            "Epoch 40/60\n",
            "79/79 [==============================] - 60s 755ms/step - loss: 0.4359 - acc: 0.8440 - val_loss: 0.6315 - val_acc: 0.7885\n",
            "Epoch 41/60\n",
            "79/79 [==============================] - 59s 741ms/step - loss: 0.3542 - acc: 0.8688 - val_loss: 0.6459 - val_acc: 0.7596\n",
            "Epoch 42/60\n",
            "79/79 [==============================] - 61s 767ms/step - loss: 0.4405 - acc: 0.8432 - val_loss: 0.7147 - val_acc: 0.7436\n",
            "Epoch 43/60\n",
            "79/79 [==============================] - 59s 741ms/step - loss: 0.3783 - acc: 0.8704 - val_loss: 0.5686 - val_acc: 0.7949\n",
            "Epoch 44/60\n",
            "79/79 [==============================] - 59s 743ms/step - loss: 0.3320 - acc: 0.8832 - val_loss: 0.5792 - val_acc: 0.7788\n",
            "Epoch 45/60\n",
            "79/79 [==============================] - 59s 746ms/step - loss: 0.3139 - acc: 0.8912 - val_loss: 0.6128 - val_acc: 0.8141\n",
            "Epoch 46/60\n",
            "79/79 [==============================] - 59s 747ms/step - loss: 0.2919 - acc: 0.8960 - val_loss: 0.7644 - val_acc: 0.7372\n",
            "Epoch 47/60\n",
            "79/79 [==============================] - 59s 747ms/step - loss: 0.3998 - acc: 0.8584 - val_loss: 0.6968 - val_acc: 0.7276\n",
            "Epoch 48/60\n",
            "79/79 [==============================] - 61s 768ms/step - loss: 0.3553 - acc: 0.8728 - val_loss: 0.6597 - val_acc: 0.7788\n",
            "Epoch 49/60\n",
            "79/79 [==============================] - 59s 742ms/step - loss: 0.3353 - acc: 0.8816 - val_loss: 0.5178 - val_acc: 0.8333\n",
            "Epoch 50/60\n",
            "79/79 [==============================] - 59s 744ms/step - loss: 0.3247 - acc: 0.8792 - val_loss: 0.7107 - val_acc: 0.7821\n",
            "Epoch 51/60\n",
            "79/79 [==============================] - 60s 756ms/step - loss: 0.2956 - acc: 0.9008 - val_loss: 0.6532 - val_acc: 0.8013\n",
            "Epoch 52/60\n",
            "79/79 [==============================] - 59s 740ms/step - loss: 0.2989 - acc: 0.8952 - val_loss: 0.6115 - val_acc: 0.7821\n",
            "Epoch 53/60\n",
            "79/79 [==============================] - 59s 746ms/step - loss: 0.2687 - acc: 0.8984 - val_loss: 0.6079 - val_acc: 0.8429\n",
            "Epoch 54/60\n",
            "79/79 [==============================] - 60s 757ms/step - loss: 0.2357 - acc: 0.9176 - val_loss: 1.1617 - val_acc: 0.6667\n",
            "Epoch 55/60\n",
            "79/79 [==============================] - 60s 753ms/step - loss: 0.3376 - acc: 0.8824 - val_loss: 0.7469 - val_acc: 0.7436\n",
            "Epoch 56/60\n",
            "79/79 [==============================] - 59s 740ms/step - loss: 0.2743 - acc: 0.8984 - val_loss: 0.6610 - val_acc: 0.7949\n",
            "Epoch 57/60\n",
            "79/79 [==============================] - 59s 745ms/step - loss: 0.2746 - acc: 0.9112 - val_loss: 0.6124 - val_acc: 0.8205\n",
            "Epoch 58/60\n",
            "79/79 [==============================] - 61s 767ms/step - loss: 0.1938 - acc: 0.9288 - val_loss: 0.6852 - val_acc: 0.7949\n",
            "Epoch 59/60\n",
            "79/79 [==============================] - 59s 743ms/step - loss: 0.2117 - acc: 0.9192 - val_loss: 0.7444 - val_acc: 0.7788\n",
            "Epoch 60/60\n",
            "79/79 [==============================] - 60s 756ms/step - loss: 0.2475 - acc: 0.9176 - val_loss: 0.7429 - val_acc: 0.8237\n"
          ]
        }
      ]
    },
    {
      "cell_type": "code",
      "source": [
        "# !zip -r /content/CNN_development/todownload.zip /content/CNN_development/model/model_epoch_17\n",
        "\n",
        "from google.colab import files\n",
        "files.download(\"/content/CNN_development/todownload.zip\")"
      ],
      "metadata": {
        "colab": {
          "base_uri": "https://localhost:8080/",
          "height": 34
        },
        "id": "ln6m-Bem7qbx",
        "outputId": "15631344-64ba-4213-c3d6-cd4d71b79c0e"
      },
      "execution_count": null,
      "outputs": [
        {
          "output_type": "display_data",
          "data": {
            "text/plain": [
              "<IPython.core.display.Javascript object>"
            ],
            "application/javascript": [
              "\n",
              "    async function download(id, filename, size) {\n",
              "      if (!google.colab.kernel.accessAllowed) {\n",
              "        return;\n",
              "      }\n",
              "      const div = document.createElement('div');\n",
              "      const label = document.createElement('label');\n",
              "      label.textContent = `Downloading \"${filename}\": `;\n",
              "      div.appendChild(label);\n",
              "      const progress = document.createElement('progress');\n",
              "      progress.max = size;\n",
              "      div.appendChild(progress);\n",
              "      document.body.appendChild(div);\n",
              "\n",
              "      const buffers = [];\n",
              "      let downloaded = 0;\n",
              "\n",
              "      const channel = await google.colab.kernel.comms.open(id);\n",
              "      // Send a message to notify the kernel that we're ready.\n",
              "      channel.send({})\n",
              "\n",
              "      for await (const message of channel.messages) {\n",
              "        // Send a message to notify the kernel that we're ready.\n",
              "        channel.send({})\n",
              "        if (message.buffers) {\n",
              "          for (const buffer of message.buffers) {\n",
              "            buffers.push(buffer);\n",
              "            downloaded += buffer.byteLength;\n",
              "            progress.value = downloaded;\n",
              "          }\n",
              "        }\n",
              "      }\n",
              "      const blob = new Blob(buffers, {type: 'application/binary'});\n",
              "      const a = document.createElement('a');\n",
              "      a.href = window.URL.createObjectURL(blob);\n",
              "      a.download = filename;\n",
              "      div.appendChild(a);\n",
              "      a.click();\n",
              "      div.remove();\n",
              "    }\n",
              "  "
            ]
          },
          "metadata": {}
        },
        {
          "output_type": "display_data",
          "data": {
            "text/plain": [
              "<IPython.core.display.Javascript object>"
            ],
            "application/javascript": [
              "download(\"download_682676b5-692a-4966-a843-02865f740ee1\", \"todownload.zip\", 643879595)"
            ]
          },
          "metadata": {}
        }
      ]
    },
    {
      "cell_type": "code",
      "source": [
        "!cd model"
      ],
      "metadata": {
        "id": "YU9veckP8ivI"
      },
      "execution_count": null,
      "outputs": []
    },
    {
      "cell_type": "markdown",
      "metadata": {
        "id": "DjvnIhajJmse"
      },
      "source": [
        "# Evaluate the model on validation data when training is done"
      ]
    },
    {
      "cell_type": "code",
      "execution_count": 26,
      "metadata": {
        "colab": {
          "base_uri": "https://localhost:8080/",
          "height": 377
        },
        "id": "YOJ-qNACJmse",
        "outputId": "80e915f2-6bc4-45c0-81bf-db6024347f96"
      },
      "outputs": [
        {
          "output_type": "stream",
          "name": "stdout",
          "text": [
            " 2/20 [==>...........................] - ETA: 4:20 - loss: 1.6245 - acc: 0.0938"
          ]
        },
        {
          "output_type": "error",
          "ename": "KeyboardInterrupt",
          "evalue": "ignored",
          "traceback": [
            "\u001b[0;31m---------------------------------------------------------------------------\u001b[0m",
            "\u001b[0;31mKeyboardInterrupt\u001b[0m                         Traceback (most recent call last)",
            "\u001b[0;32m<ipython-input-26-dc373df89c20>\u001b[0m in \u001b[0;36m<cell line: 1>\u001b[0;34m()\u001b[0m\n\u001b[0;32m----> 1\u001b[0;31m \u001b[0mloss\u001b[0m\u001b[0;34m,\u001b[0m \u001b[0macc\u001b[0m \u001b[0;34m=\u001b[0m \u001b[0mmodel\u001b[0m\u001b[0;34m.\u001b[0m\u001b[0mevaluate\u001b[0m\u001b[0;34m(\u001b[0m\u001b[0mval_ds\u001b[0m\u001b[0;34m)\u001b[0m  \u001b[0;31m# returns loss and metrics\u001b[0m\u001b[0;34m\u001b[0m\u001b[0;34m\u001b[0m\u001b[0m\n\u001b[0m\u001b[1;32m      2\u001b[0m \u001b[0mprint\u001b[0m\u001b[0;34m(\u001b[0m\u001b[0;34m\"loss: %.2f\"\u001b[0m \u001b[0;34m%\u001b[0m \u001b[0mloss\u001b[0m\u001b[0;34m)\u001b[0m\u001b[0;34m\u001b[0m\u001b[0;34m\u001b[0m\u001b[0m\n\u001b[1;32m      3\u001b[0m \u001b[0mprint\u001b[0m\u001b[0;34m(\u001b[0m\u001b[0;34m\"acc: %.2f\"\u001b[0m \u001b[0;34m%\u001b[0m \u001b[0macc\u001b[0m\u001b[0;34m)\u001b[0m\u001b[0;34m\u001b[0m\u001b[0;34m\u001b[0m\u001b[0m\n",
            "\u001b[0;32m/usr/local/lib/python3.9/dist-packages/keras/utils/traceback_utils.py\u001b[0m in \u001b[0;36merror_handler\u001b[0;34m(*args, **kwargs)\u001b[0m\n\u001b[1;32m     63\u001b[0m         \u001b[0mfiltered_tb\u001b[0m \u001b[0;34m=\u001b[0m \u001b[0;32mNone\u001b[0m\u001b[0;34m\u001b[0m\u001b[0;34m\u001b[0m\u001b[0m\n\u001b[1;32m     64\u001b[0m         \u001b[0;32mtry\u001b[0m\u001b[0;34m:\u001b[0m\u001b[0;34m\u001b[0m\u001b[0;34m\u001b[0m\u001b[0m\n\u001b[0;32m---> 65\u001b[0;31m             \u001b[0;32mreturn\u001b[0m \u001b[0mfn\u001b[0m\u001b[0;34m(\u001b[0m\u001b[0;34m*\u001b[0m\u001b[0margs\u001b[0m\u001b[0;34m,\u001b[0m \u001b[0;34m**\u001b[0m\u001b[0mkwargs\u001b[0m\u001b[0;34m)\u001b[0m\u001b[0;34m\u001b[0m\u001b[0;34m\u001b[0m\u001b[0m\n\u001b[0m\u001b[1;32m     66\u001b[0m         \u001b[0;32mexcept\u001b[0m \u001b[0mException\u001b[0m \u001b[0;32mas\u001b[0m \u001b[0me\u001b[0m\u001b[0;34m:\u001b[0m\u001b[0;34m\u001b[0m\u001b[0;34m\u001b[0m\u001b[0m\n\u001b[1;32m     67\u001b[0m             \u001b[0mfiltered_tb\u001b[0m \u001b[0;34m=\u001b[0m \u001b[0m_process_traceback_frames\u001b[0m\u001b[0;34m(\u001b[0m\u001b[0me\u001b[0m\u001b[0;34m.\u001b[0m\u001b[0m__traceback__\u001b[0m\u001b[0;34m)\u001b[0m\u001b[0;34m\u001b[0m\u001b[0;34m\u001b[0m\u001b[0m\n",
            "\u001b[0;32m/usr/local/lib/python3.9/dist-packages/keras/engine/training.py\u001b[0m in \u001b[0;36mevaluate\u001b[0;34m(self, x, y, batch_size, verbose, sample_weight, steps, callbacks, max_queue_size, workers, use_multiprocessing, return_dict, **kwargs)\u001b[0m\n\u001b[1;32m   2070\u001b[0m                         ):\n\u001b[1;32m   2071\u001b[0m                             \u001b[0mcallbacks\u001b[0m\u001b[0;34m.\u001b[0m\u001b[0mon_test_batch_begin\u001b[0m\u001b[0;34m(\u001b[0m\u001b[0mstep\u001b[0m\u001b[0;34m)\u001b[0m\u001b[0;34m\u001b[0m\u001b[0;34m\u001b[0m\u001b[0m\n\u001b[0;32m-> 2072\u001b[0;31m                             \u001b[0mtmp_logs\u001b[0m \u001b[0;34m=\u001b[0m \u001b[0mself\u001b[0m\u001b[0;34m.\u001b[0m\u001b[0mtest_function\u001b[0m\u001b[0;34m(\u001b[0m\u001b[0miterator\u001b[0m\u001b[0;34m)\u001b[0m\u001b[0;34m\u001b[0m\u001b[0;34m\u001b[0m\u001b[0m\n\u001b[0m\u001b[1;32m   2073\u001b[0m                             \u001b[0;32mif\u001b[0m \u001b[0mdata_handler\u001b[0m\u001b[0;34m.\u001b[0m\u001b[0mshould_sync\u001b[0m\u001b[0;34m:\u001b[0m\u001b[0;34m\u001b[0m\u001b[0;34m\u001b[0m\u001b[0m\n\u001b[1;32m   2074\u001b[0m                                 \u001b[0mcontext\u001b[0m\u001b[0;34m.\u001b[0m\u001b[0masync_wait\u001b[0m\u001b[0;34m(\u001b[0m\u001b[0;34m)\u001b[0m\u001b[0;34m\u001b[0m\u001b[0;34m\u001b[0m\u001b[0m\n",
            "\u001b[0;32m/usr/local/lib/python3.9/dist-packages/tensorflow/python/util/traceback_utils.py\u001b[0m in \u001b[0;36merror_handler\u001b[0;34m(*args, **kwargs)\u001b[0m\n\u001b[1;32m    148\u001b[0m     \u001b[0mfiltered_tb\u001b[0m \u001b[0;34m=\u001b[0m \u001b[0;32mNone\u001b[0m\u001b[0;34m\u001b[0m\u001b[0;34m\u001b[0m\u001b[0m\n\u001b[1;32m    149\u001b[0m     \u001b[0;32mtry\u001b[0m\u001b[0;34m:\u001b[0m\u001b[0;34m\u001b[0m\u001b[0;34m\u001b[0m\u001b[0m\n\u001b[0;32m--> 150\u001b[0;31m       \u001b[0;32mreturn\u001b[0m \u001b[0mfn\u001b[0m\u001b[0;34m(\u001b[0m\u001b[0;34m*\u001b[0m\u001b[0margs\u001b[0m\u001b[0;34m,\u001b[0m \u001b[0;34m**\u001b[0m\u001b[0mkwargs\u001b[0m\u001b[0;34m)\u001b[0m\u001b[0;34m\u001b[0m\u001b[0;34m\u001b[0m\u001b[0m\n\u001b[0m\u001b[1;32m    151\u001b[0m     \u001b[0;32mexcept\u001b[0m \u001b[0mException\u001b[0m \u001b[0;32mas\u001b[0m \u001b[0me\u001b[0m\u001b[0;34m:\u001b[0m\u001b[0;34m\u001b[0m\u001b[0;34m\u001b[0m\u001b[0m\n\u001b[1;32m    152\u001b[0m       \u001b[0mfiltered_tb\u001b[0m \u001b[0;34m=\u001b[0m \u001b[0m_process_traceback_frames\u001b[0m\u001b[0;34m(\u001b[0m\u001b[0me\u001b[0m\u001b[0;34m.\u001b[0m\u001b[0m__traceback__\u001b[0m\u001b[0;34m)\u001b[0m\u001b[0;34m\u001b[0m\u001b[0;34m\u001b[0m\u001b[0m\n",
            "\u001b[0;32m/usr/local/lib/python3.9/dist-packages/tensorflow/python/eager/polymorphic_function/polymorphic_function.py\u001b[0m in \u001b[0;36m__call__\u001b[0;34m(self, *args, **kwds)\u001b[0m\n\u001b[1;32m    892\u001b[0m \u001b[0;34m\u001b[0m\u001b[0m\n\u001b[1;32m    893\u001b[0m       \u001b[0;32mwith\u001b[0m \u001b[0mOptionalXlaContext\u001b[0m\u001b[0;34m(\u001b[0m\u001b[0mself\u001b[0m\u001b[0;34m.\u001b[0m\u001b[0m_jit_compile\u001b[0m\u001b[0;34m)\u001b[0m\u001b[0;34m:\u001b[0m\u001b[0;34m\u001b[0m\u001b[0;34m\u001b[0m\u001b[0m\n\u001b[0;32m--> 894\u001b[0;31m         \u001b[0mresult\u001b[0m \u001b[0;34m=\u001b[0m \u001b[0mself\u001b[0m\u001b[0;34m.\u001b[0m\u001b[0m_call\u001b[0m\u001b[0;34m(\u001b[0m\u001b[0;34m*\u001b[0m\u001b[0margs\u001b[0m\u001b[0;34m,\u001b[0m \u001b[0;34m**\u001b[0m\u001b[0mkwds\u001b[0m\u001b[0;34m)\u001b[0m\u001b[0;34m\u001b[0m\u001b[0;34m\u001b[0m\u001b[0m\n\u001b[0m\u001b[1;32m    895\u001b[0m \u001b[0;34m\u001b[0m\u001b[0m\n\u001b[1;32m    896\u001b[0m       \u001b[0mnew_tracing_count\u001b[0m \u001b[0;34m=\u001b[0m \u001b[0mself\u001b[0m\u001b[0;34m.\u001b[0m\u001b[0mexperimental_get_tracing_count\u001b[0m\u001b[0;34m(\u001b[0m\u001b[0;34m)\u001b[0m\u001b[0;34m\u001b[0m\u001b[0;34m\u001b[0m\u001b[0m\n",
            "\u001b[0;32m/usr/local/lib/python3.9/dist-packages/tensorflow/python/eager/polymorphic_function/polymorphic_function.py\u001b[0m in \u001b[0;36m_call\u001b[0;34m(self, *args, **kwds)\u001b[0m\n\u001b[1;32m    931\u001b[0m       \u001b[0;31m# In this case we have not created variables on the first call. So we can\u001b[0m\u001b[0;34m\u001b[0m\u001b[0;34m\u001b[0m\u001b[0m\n\u001b[1;32m    932\u001b[0m       \u001b[0;31m# run the first trace but we should fail if variables are created.\u001b[0m\u001b[0;34m\u001b[0m\u001b[0;34m\u001b[0m\u001b[0m\n\u001b[0;32m--> 933\u001b[0;31m       \u001b[0mresults\u001b[0m \u001b[0;34m=\u001b[0m \u001b[0mself\u001b[0m\u001b[0;34m.\u001b[0m\u001b[0m_variable_creation_fn\u001b[0m\u001b[0;34m(\u001b[0m\u001b[0;34m*\u001b[0m\u001b[0margs\u001b[0m\u001b[0;34m,\u001b[0m \u001b[0;34m**\u001b[0m\u001b[0mkwds\u001b[0m\u001b[0;34m)\u001b[0m\u001b[0;34m\u001b[0m\u001b[0;34m\u001b[0m\u001b[0m\n\u001b[0m\u001b[1;32m    934\u001b[0m       \u001b[0;32mif\u001b[0m \u001b[0mself\u001b[0m\u001b[0;34m.\u001b[0m\u001b[0m_created_variables\u001b[0m \u001b[0;32mand\u001b[0m \u001b[0;32mnot\u001b[0m \u001b[0mALLOW_DYNAMIC_VARIABLE_CREATION\u001b[0m\u001b[0;34m:\u001b[0m\u001b[0;34m\u001b[0m\u001b[0;34m\u001b[0m\u001b[0m\n\u001b[1;32m    935\u001b[0m         raise ValueError(\"Creating variables on a non-first call to a function\"\n",
            "\u001b[0;32m/usr/local/lib/python3.9/dist-packages/tensorflow/python/eager/polymorphic_function/tracing_compiler.py\u001b[0m in \u001b[0;36m__call__\u001b[0;34m(self, *args, **kwargs)\u001b[0m\n\u001b[1;32m    141\u001b[0m       (concrete_function,\n\u001b[1;32m    142\u001b[0m        filtered_flat_args) = self._maybe_define_function(args, kwargs)\n\u001b[0;32m--> 143\u001b[0;31m     return concrete_function._call_flat(\n\u001b[0m\u001b[1;32m    144\u001b[0m         filtered_flat_args, captured_inputs=concrete_function.captured_inputs)  # pylint: disable=protected-access\n\u001b[1;32m    145\u001b[0m \u001b[0;34m\u001b[0m\u001b[0m\n",
            "\u001b[0;32m/usr/local/lib/python3.9/dist-packages/tensorflow/python/eager/polymorphic_function/monomorphic_function.py\u001b[0m in \u001b[0;36m_call_flat\u001b[0;34m(self, args, captured_inputs, cancellation_manager)\u001b[0m\n\u001b[1;32m   1755\u001b[0m         and executing_eagerly):\n\u001b[1;32m   1756\u001b[0m       \u001b[0;31m# No tape is watching; skip to running the function.\u001b[0m\u001b[0;34m\u001b[0m\u001b[0;34m\u001b[0m\u001b[0m\n\u001b[0;32m-> 1757\u001b[0;31m       return self._build_call_outputs(self._inference_function.call(\n\u001b[0m\u001b[1;32m   1758\u001b[0m           ctx, args, cancellation_manager=cancellation_manager))\n\u001b[1;32m   1759\u001b[0m     forward_backward = self._select_forward_and_backward_functions(\n",
            "\u001b[0;32m/usr/local/lib/python3.9/dist-packages/tensorflow/python/eager/polymorphic_function/monomorphic_function.py\u001b[0m in \u001b[0;36mcall\u001b[0;34m(self, ctx, args, cancellation_manager)\u001b[0m\n\u001b[1;32m    379\u001b[0m       \u001b[0;32mwith\u001b[0m \u001b[0m_InterpolateFunctionError\u001b[0m\u001b[0;34m(\u001b[0m\u001b[0mself\u001b[0m\u001b[0;34m)\u001b[0m\u001b[0;34m:\u001b[0m\u001b[0;34m\u001b[0m\u001b[0;34m\u001b[0m\u001b[0m\n\u001b[1;32m    380\u001b[0m         \u001b[0;32mif\u001b[0m \u001b[0mcancellation_manager\u001b[0m \u001b[0;32mis\u001b[0m \u001b[0;32mNone\u001b[0m\u001b[0;34m:\u001b[0m\u001b[0;34m\u001b[0m\u001b[0;34m\u001b[0m\u001b[0m\n\u001b[0;32m--> 381\u001b[0;31m           outputs = execute.execute(\n\u001b[0m\u001b[1;32m    382\u001b[0m               \u001b[0mstr\u001b[0m\u001b[0;34m(\u001b[0m\u001b[0mself\u001b[0m\u001b[0;34m.\u001b[0m\u001b[0msignature\u001b[0m\u001b[0;34m.\u001b[0m\u001b[0mname\u001b[0m\u001b[0;34m)\u001b[0m\u001b[0;34m,\u001b[0m\u001b[0;34m\u001b[0m\u001b[0;34m\u001b[0m\u001b[0m\n\u001b[1;32m    383\u001b[0m               \u001b[0mnum_outputs\u001b[0m\u001b[0;34m=\u001b[0m\u001b[0mself\u001b[0m\u001b[0;34m.\u001b[0m\u001b[0m_num_outputs\u001b[0m\u001b[0;34m,\u001b[0m\u001b[0;34m\u001b[0m\u001b[0;34m\u001b[0m\u001b[0m\n",
            "\u001b[0;32m/usr/local/lib/python3.9/dist-packages/tensorflow/python/eager/execute.py\u001b[0m in \u001b[0;36mquick_execute\u001b[0;34m(op_name, num_outputs, inputs, attrs, ctx, name)\u001b[0m\n\u001b[1;32m     50\u001b[0m   \u001b[0;32mtry\u001b[0m\u001b[0;34m:\u001b[0m\u001b[0;34m\u001b[0m\u001b[0;34m\u001b[0m\u001b[0m\n\u001b[1;32m     51\u001b[0m     \u001b[0mctx\u001b[0m\u001b[0;34m.\u001b[0m\u001b[0mensure_initialized\u001b[0m\u001b[0;34m(\u001b[0m\u001b[0;34m)\u001b[0m\u001b[0;34m\u001b[0m\u001b[0;34m\u001b[0m\u001b[0m\n\u001b[0;32m---> 52\u001b[0;31m     tensors = pywrap_tfe.TFE_Py_Execute(ctx._handle, device_name, op_name,\n\u001b[0m\u001b[1;32m     53\u001b[0m                                         inputs, attrs, num_outputs)\n\u001b[1;32m     54\u001b[0m   \u001b[0;32mexcept\u001b[0m \u001b[0mcore\u001b[0m\u001b[0;34m.\u001b[0m\u001b[0m_NotOkStatusException\u001b[0m \u001b[0;32mas\u001b[0m \u001b[0me\u001b[0m\u001b[0;34m:\u001b[0m\u001b[0;34m\u001b[0m\u001b[0;34m\u001b[0m\u001b[0m\n",
            "\u001b[0;31mKeyboardInterrupt\u001b[0m: "
          ]
        }
      ],
      "source": [
        "loss, acc = model.evaluate(val_ds)  # returns loss and metrics\n",
        "print(\"loss: %.2f\" % loss)\n",
        "print(\"acc: %.2f\" % acc)"
      ]
    },
    {
      "cell_type": "markdown",
      "metadata": {
        "id": "cUu9U-lNJmsf"
      },
      "source": [
        "# Run Inference on data"
      ]
    },
    {
      "cell_type": "code",
      "execution_count": null,
      "metadata": {
        "colab": {
          "base_uri": "https://localhost:8080/"
        },
        "id": "LvzwdFySJmsf",
        "outputId": "a7cb6eee-9252-4dda-b0f8-42f19f611b14"
      },
      "outputs": [
        {
          "output_type": "stream",
          "name": "stdout",
          "text": [
            "1/1 [==============================] - 3s 3s/step\n",
            "[0.17070745 0.21074507 0.20129149 0.2098442  0.20741174]\n",
            "This image is\n",
            " 17.07% Acne,\n",
            " 21.07% Wrinkles,       \n",
            " 20.13% Dry skin,\n",
            " 20.98% Normal skin,\n",
            " 20.74% Oily skin.\n"
          ]
        }
      ],
      "source": [
        "img = tf.keras.preprocessing.image.load_img(\n",
        "    \"00 - Datasets split by class - Watermark Removed/01 - Acne/07RosaceaFulFAcepart_2.jpg\", target_size=rescale_image_size\n",
        ")\n",
        "img_array = tf.keras.preprocessing.image.img_to_array(img)\n",
        "img_array = tf.expand_dims(img_array, 0)  # Create batch axis\n",
        "\n",
        "predictions = model.predict(img_array)\n",
        "print(predictions[0])\n",
        "score = predictions[0]\n",
        "print(f\"This image is\\n {100 * score[0]:.2f}% Acne,\\n {100 * score[1]:.2f}% Wrinkles, \\\n",
        "      \\n {100 * score[2]:.2f}% Dry skin,\\n {100 * score[3]:.2f}% Normal skin,\\n {100 * score[4]:.2f}% Oily skin.\")"
      ]
    },
    {
      "cell_type": "markdown",
      "metadata": {
        "id": "3XKI6kw1Jmsf"
      },
      "source": [
        "# Finding the best model configuration with hyperparameter tuning"
      ]
    },
    {
      "cell_type": "code",
      "execution_count": null,
      "metadata": {
        "id": "B9CeBrGjJmsf"
      },
      "outputs": [],
      "source": [
        "# Put model in a function\n",
        "# Use hp argument (hyperparameter) in any parameter to tell Keras to tune it\n",
        "def build_model(hp):\n",
        "    inputs = tf.keras.Input(shape=(784,))\n",
        "    x = tf.keras.layers.Dense(\n",
        "        units=hp.Int('units', min_value=32, max_value=512, step=32),\n",
        "        activation='relu')(inputs)\n",
        "    outputs = tf.keras.layers.Dense(10, activation='softmax')(x)\n",
        "    model = tf.keras.Model(inputs, outputs)\n",
        "    model.compile(\n",
        "        optimizer=keras.optimizers.Adam(hp.Choice('learning_rate', values=[1e-2, 1e-3, 1e-4])),\n",
        "        loss='sparse_categorical_crossentropy',\n",
        "        metrics=['accuracy'])\n",
        "    return model"
      ]
    },
    {
      "cell_type": "code",
      "execution_count": null,
      "metadata": {
        "id": "3533r43hJmsf"
      },
      "outputs": [],
      "source": [
        "import keras_tuner\n",
        "\n",
        "tuner = keras_tuner.tuners.Hyperband(\n",
        "  build_model,\n",
        "  objective='val_loss',\n",
        "  max_epochs=100,\n",
        "  max_trials=200,\n",
        "  executions_per_trial=2,\n",
        "  directory='my_dir')"
      ]
    },
    {
      "cell_type": "markdown",
      "metadata": {
        "id": "UOuMbqcmJmsg"
      },
      "source": [
        "# MNIST model example"
      ]
    },
    {
      "cell_type": "code",
      "execution_count": null,
      "metadata": {
        "id": "W5CzmKOmJmsg"
      },
      "outputs": [],
      "source": [
        "# Get the data as Numpy arrays\n",
        "(x_train, y_train), (x_test, y_test) = keras.datasets.mnist.load_data()\n",
        "\n",
        "# Build a simple model\n",
        "inputs = tf.keras.Input(shape=(28, 28))\n",
        "x = tf.keras.layers.Rescaling(1.0 / 255)(inputs)\n",
        "x = tf.keras.layers.Flatten()(x)\n",
        "x = tf.keras.layers.Dense(128, activation=\"relu\")(x)\n",
        "x = tf.keras.layers.Dense(128, activation=\"relu\")(x)\n",
        "outputs = tf.keras.layers.Dense(10, activation=\"softmax\")(x)\n",
        "model = tf.keras.Model(inputs, outputs)\n",
        "model.summary()\n",
        "\n",
        "# Compile the model\n",
        "model.compile(optimizer=\"adam\", loss=\"sparse_categorical_crossentropy\")"
      ]
    }
  ],
  "metadata": {
    "kernelspec": {
      "display_name": "Python 3",
      "language": "python",
      "name": "python3"
    },
    "language_info": {
      "codemirror_mode": {
        "name": "ipython",
        "version": 3
      },
      "file_extension": ".py",
      "mimetype": "text/x-python",
      "name": "python",
      "nbconvert_exporter": "python",
      "pygments_lexer": "ipython3",
      "version": "3.8.3"
    },
    "orig_nbformat": 4,
    "colab": {
      "provenance": [],
      "gpuType": "T4",
      "include_colab_link": true
    },
    "accelerator": "GPU",
    "gpuClass": "standard"
  },
  "nbformat": 4,
  "nbformat_minor": 0
}