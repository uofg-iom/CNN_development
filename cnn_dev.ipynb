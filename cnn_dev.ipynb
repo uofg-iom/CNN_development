{
  "cells": [
    {
      "cell_type": "markdown",
      "metadata": {
        "id": "view-in-github",
        "colab_type": "text"
      },
      "source": [
        "<a href=\"https://colab.research.google.com/github/uofg-iom/CNN_development/blob/balanced-ds/cnn_dev.ipynb\" target=\"_parent\"><img src=\"https://colab.research.google.com/assets/colab-badge.svg\" alt=\"Open In Colab\"/></a>"
      ]
    },
    {
      "cell_type": "code",
      "source": [
        "from google.colab import drive\n",
        "drive.mount('/content/drive')"
      ],
      "metadata": {
        "id": "c-I7DNlDn8pS",
        "outputId": "78534245-caf8-4812-b14a-188dcb6bb170",
        "colab": {
          "base_uri": "https://localhost:8080/"
        }
      },
      "execution_count": 1,
      "outputs": [
        {
          "output_type": "stream",
          "name": "stdout",
          "text": [
            "Mounted at /content/drive\n"
          ]
        }
      ]
    },
    {
      "cell_type": "code",
      "source": [
        "%ls\n",
        "!cd .\n",
        "!git clone https://github.com/uofg-iom/CNN_development.git"
      ],
      "metadata": {
        "colab": {
          "base_uri": "https://localhost:8080/"
        },
        "id": "TFuw40xeL-sh",
        "outputId": "a9a6547b-7847-4f16-d118-2d3747698aa2"
      },
      "execution_count": 3,
      "outputs": [
        {
          "output_type": "stream",
          "name": "stdout",
          "text": [
            "Cloning into 'CNN_development'...\n",
            "remote: Enumerating objects: 1917, done.\u001b[K\n",
            "remote: Counting objects: 100% (317/317), done.\u001b[K\n",
            "remote: Compressing objects: 100% (278/278), done.\u001b[K\n",
            "remote: Total 1917 (delta 40), reused 306 (delta 39), pack-reused 1600\u001b[K\n",
            "Receiving objects: 100% (1917/1917), 128.61 MiB | 22.85 MiB/s, done.\n",
            "Resolving deltas: 100% (634/634), done.\n"
          ]
        }
      ]
    },
    {
      "cell_type": "code",
      "source": [
        "%cd /content/CNN_development\n",
        "!git status\n",
        "!git checkout balanced-ds"
      ],
      "metadata": {
        "colab": {
          "base_uri": "https://localhost:8080/"
        },
        "id": "VhS7pso4NgMQ",
        "outputId": "736229b8-9e57-4006-ee28-d5f9b9ac1c2d"
      },
      "execution_count": 3,
      "outputs": [
        {
          "output_type": "stream",
          "name": "stdout",
          "text": [
            "/content/CNN_development\n",
            "On branch balanced-ds\n",
            "Your branch is up to date with 'origin/balanced-ds'.\n",
            "\n",
            "nothing to commit, working tree clean\n",
            "Already on 'balanced-ds'\n",
            "Your branch is up to date with 'origin/balanced-ds'.\n"
          ]
        }
      ]
    },
    {
      "cell_type": "markdown",
      "metadata": {
        "id": "Rfwx39HvJmsQ"
      },
      "source": [
        "# Introductory work on CNN development\n",
        "\n",
        "Sources:\n",
        "* Main guide: https://keras.io/getting_started/intro_to_keras_for_engineers/\n",
        "* Augmentation layers: https://keras.io/api/layers/preprocessing_layers/image_augmentation/\n",
        "* Image classification example: https://keras.io/examples/vision/image_classification_from_scratch/\n",
        "\n"
      ]
    },
    {
      "cell_type": "code",
      "execution_count": 4,
      "metadata": {
        "id": "xBBHa-_OJmsV",
        "outputId": "cfa4d625-764d-47b4-c318-cd54ed08fa3f",
        "colab": {
          "base_uri": "https://localhost:8080/"
        }
      },
      "outputs": [
        {
          "output_type": "stream",
          "name": "stdout",
          "text": [
            "/content/CNN_development\n"
          ]
        }
      ],
      "source": [
        "%cd /content/CNN_development\n",
        "import numpy as np\n",
        "import tensorflow as tf\n",
        "# from tensorflow import keras\n",
        "from matplotlib import pyplot as plt\n",
        "\n",
        "\n",
        "# Data Augmentation layer can take place as a model layer (synchronous)\n",
        "# or to the dataset (asynchronously) before being passed to the model\n",
        "# The synchronous option benefits from GPU acceleration, however it will be slower when run on a CPU\n",
        "# The asynchronous option is better if we are training on a CPU\n",
        "\n",
        "SYNCHRONOUS_AUGM = True\n",
        "dataset_path = \"00 - Datasets split by class - Watermark Removed\""
      ]
    },
    {
      "cell_type": "markdown",
      "metadata": {
        "id": "2lurser3JmsW"
      },
      "source": [
        "# Load dataset"
      ]
    },
    {
      "cell_type": "code",
      "execution_count": 5,
      "metadata": {
        "colab": {
          "base_uri": "https://localhost:8080/"
        },
        "id": "iRFx7SDPJmsX",
        "outputId": "1ad0f3d2-453e-4b0d-a494-77331fc1988d"
      },
      "outputs": [
        {
          "output_type": "stream",
          "name": "stdout",
          "text": [
            "Found 1003 files belonging to 5 classes.\n",
            "Using 803 files for training.\n",
            "Using 200 files for validation.\n",
            "['01 - Acne', '02 - Wrinkles', '03 - Dry skin', '04 - Normal skin', '05 - Oily skin']\n"
          ]
        }
      ],
      "source": [
        "# Load dataset as TensorFlow Dataset Object\n",
        "# Shuffle argument shuffles all images in all classes and places them into batches\n",
        "# If shuffle is false, then the data is placed into batches based on the order in which they are loaded \n",
        "# Image size downsizes the image to the specified resolution, it doesn't crop\n",
        "# If crop_to_aspect_ratio is selected then the image is cropped\n",
        "rescale_image_size = (256, 256)\n",
        "ds_batch_size = 16\n",
        "\n",
        "train_ds, val_ds  = tf.keras.utils.image_dataset_from_directory(\n",
        "    dataset_path,\n",
        "    validation_split=0.2,\n",
        "    subset=\"both\",\n",
        "    batch_size=ds_batch_size,\n",
        "    image_size=rescale_image_size,\n",
        "    crop_to_aspect_ratio=False,\n",
        "    color_mode='rgb',\n",
        "    shuffle=True,\n",
        "    seed=100)\n",
        "\n",
        "class_names = train_ds.class_names\n",
        "print(class_names)\n",
        "\n",
        "# For demonstration, iterate over the batches yielded by the dataset.\n",
        "# for data, labels in train_ds:\n",
        "#    print(data.shape)  # (64, 200, 200, 3)\n",
        "#    print(data.dtype)  # float32\n",
        "#    print(labels.shape)  # (64,)\n",
        "#    print(labels.dtype)  # int32\n",
        "\n",
        "\n",
        " \n",
        "sel_batch = 6\n",
        "num_rows = 3\n",
        "num_cols = 3\n",
        "            \n",
        "# plt.figure(figsize=(10, 10))\n",
        "# # .take() selects the batch number to show\n",
        "# for images, labels in train_ds.take(sel_batch):\n",
        "#     for i in range(num_rows*num_cols):\n",
        "#         ax = plt.subplot(num_rows, num_cols, i + 1)\n",
        "#         plt.imshow(images[i].numpy().astype(\"uint8\"))\n",
        "#         plt.title(class_names[labels[i]])\n",
        "#         plt.tight_layout()\n",
        "#         # plt.axis(\"off\")"
      ]
    },
    {
      "cell_type": "markdown",
      "metadata": {
        "id": "t2W5h-43Jmsa"
      },
      "source": [
        "# Create artificial images to increase dataset size\n",
        "\n",
        "Apply image transformations (flip, rotate)\n",
        "\n",
        "# Image Preprocessing\n",
        "\n",
        "Keras comes with preprocessing layers to aid with resizing, cropping, normalization etc.\n",
        "\n",
        "Good to use those so that model accepts raw data (RGB [0,255]) and performs all the preprocessing directly without external API dependencies.\n",
        "\n",
        "Pre-processing can take place before training or during training."
      ]
    },
    {
      "cell_type": "code",
      "execution_count": 6,
      "metadata": {
        "id": "BJi-xld-Jmsa"
      },
      "outputs": [],
      "source": [
        "# \"Filters\" to be applied sequentially to each image\n",
        "data_augmentation = tf.keras.Sequential(\n",
        "    [\n",
        "        tf.keras.layers.RandomFlip(\"horizontal\"),\n",
        "        tf.keras.layers.RandomRotation(0.1),\n",
        "        # tf.keras.layers.RandomCrop(200, 200),\n",
        "        tf.keras.layers.RandomBrightness(0.1),\n",
        "        tf.keras.layers.RandomContrast(0.2), # Computationally expensive\n",
        "        # tf.keras.layers.RandomZoom(0.2, 0.2) # Computationally expensive\n",
        "        # tf.keras.layers.RandomTranslation(height_factor= 0.2, width_factor= 0.2, fill_mode=\"nearest\") # Perhaps too much for this application\n",
        "    ]\n",
        ")\n"
      ]
    },
    {
      "cell_type": "code",
      "source": [
        "# Visualize the output from the applied filters\n",
        "num_pics = 6\n",
        "sel_branch = 6\n",
        "num_rows = 3\n",
        "num_cols = 3\n",
        "for k in range(num_pics):\n",
        "    plt.figure(figsize=(10, 10))\n",
        "    for images, labels in train_ds.take(sel_branch):\n",
        "        for i in range(num_rows*num_cols):\n",
        "            augmented_images = data_augmentation(images)\n",
        "            ax = plt.subplot(num_rows, num_cols, i + 1)\n",
        "            plt.imshow(augmented_images[k].numpy().astype(\"uint8\"))\n",
        "            plt.title(class_names[labels[i]])\n",
        "            plt.tight_layout()"
      ],
      "metadata": {
        "id": "is02vOKFOijy"
      },
      "execution_count": null,
      "outputs": []
    },
    {
      "cell_type": "markdown",
      "metadata": {
        "id": "px92VNqTJmsb"
      },
      "source": [
        "## Pretrained models in Literature\n",
        "In the literature we have seen the following models used:\n",
        "* 2x (Conv + MaxPooling) layers in https://ieeexplore.ieee.org/document/9580174\n",
        "* ResNet 152 model in https://arxiv.org/ftp/arxiv/papers/1907/1907.07901.pdf\n",
        "* AlexNet (5x Conv with some MaxPooling layers in between some layers) in https://www.sciencedirect.com/science/article/pii/S1877050919321295?via%3Dihub\n",
        "* GoogleNet (22 layers deep) (trained on ImageNet dataset) using transfer-learning process in https://link.springer.com/chapter/10.1007/978-981-15-2188-1_14\n",
        "* Custom model (2x (Conv + MaxPooling)) with final Dense layer of shape 7 due to 7 classes in https://www.nature.com/articles/s41598-018-24204-6\n",
        "* Also used VGG16 model in https://www.nature.com/articles/s41598-018-24204-6\n",
        "* GoogleNet in https://link-springer-com.ezproxy.lib.gla.ac.uk/chapter/10.1007/978-3-319-59876-5_53\n",
        "* ResNet50 and ResNet 152 in https://www.frontiersin.org/articles/10.3389/fmed.2021.644327/full\n",
        "* MobileNet has been used in Dragomir https://ieeexplore.ieee.org/document/9301064\n",
        "\n",
        "## Pretrained models available in Keras\n",
        "https://keras.io/api/applications/\n"
      ]
    },
    {
      "cell_type": "markdown",
      "metadata": {
        "id": "CUukSNgWJmsc"
      },
      "source": [
        "# Creating custom model with Keras layers\n",
        "\n",
        "Guide for adding preprocessing layers to `keras.application`, i.e. pre-defined model:\n",
        "https://www.tensorflow.org/guide/keras/preprocessing_layers\n"
      ]
    },
    {
      "cell_type": "code",
      "execution_count": 7,
      "metadata": {
        "colab": {
          "base_uri": "https://localhost:8080/"
        },
        "id": "lhn3A1wxJmsc",
        "outputId": "313c69d9-e233-439d-96f4-8d72b54917e4"
      },
      "outputs": [
        {
          "output_type": "stream",
          "name": "stdout",
          "text": [
            "Model: \"model\"\n",
            "_________________________________________________________________\n",
            " Layer (type)                Output Shape              Param #   \n",
            "=================================================================\n",
            " input_1 (InputLayer)        [(None, 256, 256, 3)]     0         \n",
            "                                                                 \n",
            " tf.math.truediv (TFOpLambda  (None, 256, 256, 3)      0         \n",
            " )                                                               \n",
            "                                                                 \n",
            " tf.math.subtract (TFOpLambd  (None, 256, 256, 3)      0         \n",
            " a)                                                              \n",
            "                                                                 \n",
            " dropout (Dropout)           (None, 256, 256, 3)       0         \n",
            "                                                                 \n",
            " resnet152v2 (Functional)    (None, 5)                 58341893  \n",
            "                                                                 \n",
            "=================================================================\n",
            "Total params: 58,341,893\n",
            "Trainable params: 58,198,149\n",
            "Non-trainable params: 143,744\n",
            "_________________________________________________________________\n"
          ]
        }
      ],
      "source": [
        "# Data Augmentation layer can take place as a model layer (synchronous)\n",
        "# or to the dataset (asynchronously) before being passed to the model\n",
        "# The synchronous option benefits from GPU acceleration, however it will be slower when run on a CPU\n",
        "# The asynchronous option is better if we are training on a CPU\n",
        "from enum import Enum\n",
        "\n",
        "class ModelType(Enum):\n",
        "    CustomModel = 0\n",
        "    MobileNet = 1\n",
        "    ResNet50 = 2\n",
        "    ResNet152 = 3\n",
        "    VGG16 = 4\n",
        "    Xception = 5\n",
        "\n",
        "\n",
        "def build_model(image_size, num_classes, model_type):\n",
        "    \n",
        "    in_w = image_size[0]\n",
        "    in_h = image_size[1]\n",
        "    \n",
        "    # When input data size is variable\n",
        "    inputs = tf.keras.Input(shape=(in_w, in_h, 3))\n",
        "    # x = tf.keras.layers.CenterCrop(height=200, width=200)(inputs)\n",
        "    # If synchronous, add data augmentation layer as part of the model\n",
        "    if(SYNCHRONOUS_AUGM):\n",
        "        x = data_augmentation(inputs)\n",
        "        # Scaling Layer (scales data into 0.0 - 1.0 range)\n",
        "        x = tf.keras.layers.Rescaling(scale=1.0 / 255)(x)\n",
        "    else:\n",
        "        # Scaling Layer (scales data into 0.0 - 1.0 range)\n",
        "        x = tf.keras.layers.Rescaling(scale=1.0 / 255)(inputs)\n",
        "    \n",
        "    if model_type == ModelType.CustomModel:\n",
        "        \n",
        "        \n",
        "        # ----------- Add Model Layers here ---------------\n",
        "        # Here layers are added randomly as example. See main guide.\n",
        "            \n",
        "        # Apply some convolution and pooling layers\n",
        "        x = tf.keras.layers.Conv2D(128, 3, strides=2, padding=\"same\", activation=\"relu\")(x)\n",
        "        x = tf.keras.layers.MaxPooling2D(3, strides=2, padding=\"same\")(x)\n",
        "        x = tf.keras.layers.BatchNormalization()(x)\n",
        "        x = tf.keras.layers.Conv2D(64, 3, strides=2, padding=\"same\", activation=\"relu\")(x)\n",
        "        x = tf.keras.layers.MaxPooling2D(3, strides=2, padding=\"same\")(x)\n",
        "        x = tf.keras.layers.BatchNormalization()(x)\n",
        "        x = tf.keras.layers.Conv2D(32, 3, strides=2, padding=\"same\", activation=\"relu\")(x)\n",
        "        x = tf.keras.layers.MaxPooling2D(3, strides=2, padding=\"same\")(x)\n",
        "        x = tf.keras.layers.BatchNormalization()(x)\n",
        "        # Apply global average pooling to get flat feature vectors\n",
        "        x = tf.keras.layers.GlobalAveragePooling2D()(x)\n",
        "        # -------------------------------------------------\n",
        "        \n",
        "        \n",
        "        # Dropout layer helps prevent overfitting by setting one input to 0 randomly\n",
        "        # arguement is float from 0-1, fraction of the input units to drop.\n",
        "        x = tf.keras.layers.Dropout(0.1)(x)\n",
        "        outputs = tf.keras.layers.Dense(num_classes, activation=\"softmax\")(x)\n",
        "    \n",
        "    elif model_type == ModelType.ResNet152:\n",
        "        # Following preprocess_input() method is required by ResNet\n",
        "        # See https://www.tensorflow.org/api_docs/python/tf/keras/applications/resnet_v2/ResNet152V2\n",
        "        \n",
        "        x = tf.keras.applications.resnet_v2.preprocess_input(inputs)\n",
        "        x = tf.keras.layers.Dropout(0.1)(x)\n",
        "        outputs = tf.keras.applications.ResNet152V2(\n",
        "            include_top=True,\n",
        "            weights=None,\n",
        "            input_tensor=None,\n",
        "            input_shape=(in_w, in_h, 3),\n",
        "            pooling=\"avg\",\n",
        "            classes=num_classes,\n",
        "            classifier_activation=\"softmax\")(x)\n",
        "        \n",
        "    \n",
        "    return tf.keras.Model(inputs, outputs)\n",
        "    \n",
        "\n",
        "model = build_model(rescale_image_size, len(class_names), ModelType.ResNet152)\n",
        "model.summary()\n"
      ]
    },
    {
      "cell_type": "markdown",
      "metadata": {
        "id": "NkBK7CLHJmsd"
      },
      "source": [
        "## Callbacks to have checkpoints of model during training"
      ]
    },
    {
      "cell_type": "code",
      "execution_count": 8,
      "metadata": {
        "id": "A9BltiMiJmsd"
      },
      "outputs": [],
      "source": [
        "# Adding callbacks to store the model while it is being trained.\n",
        "# Models is saved at the start and end of each batch and epoch\n",
        "model_path = \"./model/\"\n",
        "\n",
        "checkpoint_path = model_path + 'model_chp'\n",
        "google_drive_path = \"/content/drive/MyDrive/Colab Notebooks/cleaned_trained_model/model_chp\"\n",
        "\n",
        "callbacks = [\n",
        "    tf.keras.callbacks.ModelCheckpoint(\n",
        "        filepath= google_drive_path,\n",
        "        save_freq='epoch',\n",
        "        save_weights_only=True,\n",
        "        save_best_only = True)\n",
        "]"
      ]
    },
    {
      "cell_type": "markdown",
      "metadata": {
        "id": "j6lnbRjGJmsd"
      },
      "source": [
        "# Train Model\n",
        "* Training done with `fit()` method.\n",
        "* Before calling `fit()`, need to set an **optimizer** and a **loss function** \n",
        "\n",
        "Good explanation and example\n",
        "https://www.tensorflow.org/tutorials/images/classification"
      ]
    },
    {
      "cell_type": "code",
      "execution_count": 9,
      "metadata": {
        "id": "TFO8-CdYJmsd"
      },
      "outputs": [],
      "source": [
        "# If asynchronous, train the dataset before passing to the model\n",
        "# If you're training on CPU, this is the better option, since it makes data augmentation asynchronous and non-blocking.\n",
        "# See Image Classification example linked at the top of Notebook\n",
        "if(not SYNCHRONOUS_AUGM):\n",
        "    # Might need to use image data generate class so that the augmented images are kept\n",
        "    augmented_train_ds = train_ds.map(\n",
        "        lambda x, y: (data_augmentation(x, training=True), y),\n",
        "        num_parallel_calls=tf.data.AUTOTUNE)\n",
        "    \n",
        "# Prefetching samples in GPU memory helps maximize GPU utilization.\n",
        "train_ds = train_ds.prefetch(tf.data.AUTOTUNE)\n",
        "val_ds = val_ds.prefetch(tf.data.AUTOTUNE)\n",
        "\n",
        "# --------- Specify Optimizer and Loss function ---------\n",
        "model.compile(\n",
        "    optimizer=tf.keras.optimizers.Adam(1e-3),\n",
        "    loss=\"sparse_categorical_crossentropy\",\n",
        "    metrics=[tf.keras.metrics.SparseCategoricalAccuracy(name=\"acc\")],\n",
        ")\n",
        "\n",
        "# Save the weights using the `checkpoint_path` format\n",
        "# model.save_weights(google_drive_path.format(epoch=0))\n"
      ]
    },
    {
      "cell_type": "code",
      "source": [
        "import os\n",
        "\n",
        "print(os.listdir(\"/content/drive/MyDrive/Colab Notebooks/model_epoch_17/\"))\n",
        "\n",
        "model = tf.keras.models.load_model(\"/content/drive/MyDrive/Colab Notebooks/model_epoch_17/\")"
      ],
      "metadata": {
        "id": "zn97FN_nm0sD",
        "outputId": "50cd3f16-d376-4840-8e53-0cf3709e2847",
        "colab": {
          "base_uri": "https://localhost:8080/"
        }
      },
      "execution_count": null,
      "outputs": [
        {
          "output_type": "stream",
          "name": "stdout",
          "text": [
            "['saved_model.pb', 'keras_metadata.pb', 'fingerprint.pb', 'variables', 'assets']\n"
          ]
        }
      ]
    },
    {
      "cell_type": "code",
      "source": [
        "# Re-evaluate the model\n",
        "loss, acc = model.evaluate(val_ds)\n",
        "print(\"Restored model, accuracy: {:5.2f}%\".format(100 * acc))"
      ],
      "metadata": {
        "id": "jDbW6PaMpQNC",
        "outputId": "205bfb5d-9528-4841-fe41-192efa0cbd20",
        "colab": {
          "base_uri": "https://localhost:8080/"
        }
      },
      "execution_count": null,
      "outputs": [
        {
          "output_type": "stream",
          "name": "stdout",
          "text": [
            "20/20 [==============================] - 5s 225ms/step - loss: 0.9424 - acc: 0.8301\n",
            "Restored model, accuracy: 83.01%\n"
          ]
        }
      ]
    },
    {
      "cell_type": "code",
      "source": [
        "model.save(\"/content/drive/MyDrive/Colab Notebooks/cleaned_ds_trained_model/\")"
      ],
      "metadata": {
        "id": "V_UHgrTtSQqb",
        "outputId": "77445a31-fc41-47d2-be03-7dbbc2651f58",
        "colab": {
          "base_uri": "https://localhost:8080/"
        }
      },
      "execution_count": 11,
      "outputs": [
        {
          "output_type": "stream",
          "name": "stderr",
          "text": [
            "WARNING:absl:Found untraced functions such as _jit_compiled_convolution_op, _jit_compiled_convolution_op, _jit_compiled_convolution_op, _jit_compiled_convolution_op, _jit_compiled_convolution_op while saving (showing 5 of 155). These functions will not be directly callable after loading.\n"
          ]
        }
      ]
    },
    {
      "cell_type": "code",
      "source": [
        "# --------- Continue Training model if loaded -------------\n",
        "epochs = 30\n",
        "history = model.fit(\n",
        "    train_ds,\n",
        "    epochs=epochs,\n",
        "    # steps_per_epoch=steps_per_epoch,\n",
        "    callbacks=callbacks,\n",
        "    validation_data=val_ds,\n",
        ")\n",
        "\n",
        "# history2 = model.fit(\n",
        "#     train_ds,\n",
        "#     epochs=epochs,\n",
        "#     # steps_per_epoch=steps_per_epoch,\n",
        "#     callbacks=callbacks,\n",
        "#     validation_data=val_ds,\n",
        "# )"
      ],
      "metadata": {
        "id": "QxZMJqgRmw5M",
        "outputId": "b042eb1a-5661-4a06-9c4d-33e3bd3c91d6",
        "colab": {
          "base_uri": "https://localhost:8080/"
        }
      },
      "execution_count": 13,
      "outputs": [
        {
          "output_type": "stream",
          "name": "stdout",
          "text": [
            "Epoch 1/30\n",
            "51/51 [==============================] - 26s 510ms/step - loss: 0.0545 - acc: 0.9813 - val_loss: 1.9126 - val_acc: 0.6650\n",
            "Epoch 2/30\n",
            "51/51 [==============================] - 26s 502ms/step - loss: 0.3627 - acc: 0.9004 - val_loss: 14.7726 - val_acc: 0.4600\n",
            "Epoch 3/30\n",
            "51/51 [==============================] - 26s 492ms/step - loss: 0.1299 - acc: 0.9539 - val_loss: 1.5858 - val_acc: 0.6600\n",
            "Epoch 4/30\n",
            "51/51 [==============================] - 26s 498ms/step - loss: 0.1707 - acc: 0.9427 - val_loss: 1.4494 - val_acc: 0.6500\n",
            "Epoch 5/30\n",
            "51/51 [==============================] - 27s 515ms/step - loss: 0.0920 - acc: 0.9714 - val_loss: 1.4752 - val_acc: 0.6700\n",
            "Epoch 6/30\n",
            "51/51 [==============================] - 26s 501ms/step - loss: 0.1773 - acc: 0.9303 - val_loss: 1.7714 - val_acc: 0.6800\n",
            "Epoch 7/30\n",
            "51/51 [==============================] - 27s 517ms/step - loss: 0.0678 - acc: 0.9813 - val_loss: 1.4599 - val_acc: 0.6700\n",
            "Epoch 8/30\n",
            "51/51 [==============================] - 26s 508ms/step - loss: 0.1108 - acc: 0.9664 - val_loss: 1.6442 - val_acc: 0.6500\n",
            "Epoch 9/30\n",
            "51/51 [==============================] - 26s 499ms/step - loss: 0.0952 - acc: 0.9701 - val_loss: 2.1310 - val_acc: 0.6500\n",
            "Epoch 10/30\n",
            "51/51 [==============================] - 26s 507ms/step - loss: 0.1302 - acc: 0.9477 - val_loss: 1.6638 - val_acc: 0.6600\n",
            "Epoch 11/30\n",
            "51/51 [==============================] - 25s 494ms/step - loss: 0.1512 - acc: 0.9552 - val_loss: 1.9760 - val_acc: 0.6750\n",
            "Epoch 12/30\n",
            "51/51 [==============================] - 26s 510ms/step - loss: 0.0690 - acc: 0.9763 - val_loss: 1.6087 - val_acc: 0.6600\n",
            "Epoch 13/30\n",
            "51/51 [==============================] - 26s 509ms/step - loss: 0.1717 - acc: 0.9477 - val_loss: 1.6873 - val_acc: 0.6600\n",
            "Epoch 14/30\n",
            "51/51 [==============================] - 26s 498ms/step - loss: 0.0733 - acc: 0.9726 - val_loss: 1.8559 - val_acc: 0.6650\n",
            "Epoch 15/30\n",
            "51/51 [==============================] - 26s 506ms/step - loss: 0.1028 - acc: 0.9577 - val_loss: 1.2285 - val_acc: 0.7100\n",
            "Epoch 16/30\n",
            "51/51 [==============================] - 26s 500ms/step - loss: 0.0499 - acc: 0.9826 - val_loss: 1.5987 - val_acc: 0.6750\n",
            "Epoch 17/30\n",
            "51/51 [==============================] - 26s 507ms/step - loss: 0.0391 - acc: 0.9888 - val_loss: 1.5828 - val_acc: 0.7050\n",
            "Epoch 18/30\n",
            "51/51 [==============================] - 26s 498ms/step - loss: 0.1063 - acc: 0.9651 - val_loss: 1.9426 - val_acc: 0.6400\n",
            "Epoch 19/30\n",
            "51/51 [==============================] - 26s 510ms/step - loss: 0.2063 - acc: 0.9390 - val_loss: 2.5215 - val_acc: 0.5800\n",
            "Epoch 20/30\n",
            "51/51 [==============================] - 26s 499ms/step - loss: 0.1168 - acc: 0.9539 - val_loss: 1.5169 - val_acc: 0.6700\n",
            "Epoch 21/30\n",
            "51/51 [==============================] - 26s 499ms/step - loss: 0.0493 - acc: 0.9826 - val_loss: 1.5106 - val_acc: 0.6850\n",
            "Epoch 22/30\n",
            "51/51 [==============================] - 26s 500ms/step - loss: 0.0216 - acc: 0.9925 - val_loss: 1.4672 - val_acc: 0.7000\n",
            "Epoch 23/30\n",
            "51/51 [==============================] - 26s 502ms/step - loss: 0.0188 - acc: 0.9963 - val_loss: 1.5038 - val_acc: 0.6900\n",
            "Epoch 24/30\n",
            "51/51 [==============================] - 26s 507ms/step - loss: 0.1231 - acc: 0.9589 - val_loss: 1.6918 - val_acc: 0.6850\n",
            "Epoch 25/30\n",
            "51/51 [==============================] - 26s 499ms/step - loss: 0.0832 - acc: 0.9689 - val_loss: 2.0133 - val_acc: 0.6750\n",
            "Epoch 26/30\n",
            "51/51 [==============================] - 26s 505ms/step - loss: 0.2406 - acc: 0.9166 - val_loss: 1.8285 - val_acc: 0.6450\n",
            "Epoch 27/30\n",
            "51/51 [==============================] - 26s 508ms/step - loss: 0.0504 - acc: 0.9813 - val_loss: 1.6028 - val_acc: 0.7100\n",
            "Epoch 28/30\n",
            "51/51 [==============================] - 26s 498ms/step - loss: 0.0774 - acc: 0.9788 - val_loss: 1.5044 - val_acc: 0.7050\n",
            "Epoch 29/30\n",
            "51/51 [==============================] - 26s 510ms/step - loss: 0.0305 - acc: 0.9900 - val_loss: 1.5300 - val_acc: 0.6750\n",
            "Epoch 30/30\n",
            "51/51 [==============================] - 26s 514ms/step - loss: 0.1666 - acc: 0.9502 - val_loss: 1.4667 - val_acc: 0.6700\n"
          ]
        }
      ]
    },
    {
      "cell_type": "markdown",
      "source": [
        "# Visualisation of Performance"
      ],
      "metadata": {
        "id": "JasS5_BVtE2a"
      }
    },
    {
      "cell_type": "code",
      "source": [
        "acc = history.history['acc']\n",
        "val_acc = history.history['val_acc']\n",
        "\n",
        "loss = history.history['loss']\n",
        "val_loss = history.history['val_loss']\n",
        "\n",
        "epochs_range = range(epochs)\n",
        "\n",
        "plt.figure(figsize=(12, 6))\n",
        "plt.subplot(1, 2, 1)\n",
        "plt.plot(epochs_range, acc, label='Training Accuracy')\n",
        "plt.plot(epochs_range, val_acc, label='Validation Accuracy')\n",
        "plt.legend(loc='lower right')\n",
        "plt.title('Training and Validation Accuracy')\n",
        "\n",
        "plt.subplot(1, 2, 2)\n",
        "plt.plot(epochs_range, loss, label='Training Loss')\n",
        "plt.plot(epochs_range, val_loss, label='Validation Loss')\n",
        "plt.legend(loc='upper right')\n",
        "plt.title('Training and Validation Loss')\n",
        "plt.show()"
      ],
      "metadata": {
        "colab": {
          "base_uri": "https://localhost:8080/",
          "height": 545
        },
        "id": "W0lGnorPtEnC",
        "outputId": "f1f614e3-5001-43e4-d7e0-9a1cd6721a5f"
      },
      "execution_count": 15,
      "outputs": [
        {
          "output_type": "display_data",
          "data": {
            "text/plain": [
              "<Figure size 1200x600 with 2 Axes>"
            ],
            "image/png": "[encoded data removed]"
          },
          "metadata": {}
        }
      ]
    },
    {
      "cell_type": "code",
      "source": [
        "# !zip -r /content/CNN_development/todownload.zip /content/CNN_development/model/model_epoch_17\n",
        "\n",
        "from google.colab import files\n",
        "files.download(\"/content/CNN_development/todownload.zip\")"
      ],
      "metadata": {
        "colab": {
          "base_uri": "https://localhost:8080/",
          "height": 34
        },
        "id": "ln6m-Bem7qbx",
        "outputId": "15631344-64ba-4213-c3d6-cd4d71b79c0e"
      },
      "execution_count": null,
      "outputs": [
        {
          "output_type": "display_data",
          "data": {
            "text/plain": [
              "<IPython.core.display.Javascript object>"
            ],
            "application/javascript": [
              "\n",
              "    async function download(id, filename, size) {\n",
              "      if (!google.colab.kernel.accessAllowed) {\n",
              "        return;\n",
              "      }\n",
              "      const div = document.createElement('div');\n",
              "      const label = document.createElement('label');\n",
              "      label.textContent = `Downloading \"${filename}\": `;\n",
              "      div.appendChild(label);\n",
              "      const progress = document.createElement('progress');\n",
              "      progress.max = size;\n",
              "      div.appendChild(progress);\n",
              "      document.body.appendChild(div);\n",
              "\n",
              "      const buffers = [];\n",
              "      let downloaded = 0;\n",
              "\n",
              "      const channel = await google.colab.kernel.comms.open(id);\n",
              "      // Send a message to notify the kernel that we're ready.\n",
              "      channel.send({})\n",
              "\n",
              "      for await (const message of channel.messages) {\n",
              "        // Send a message to notify the kernel that we're ready.\n",
              "        channel.send({})\n",
              "        if (message.buffers) {\n",
              "          for (const buffer of message.buffers) {\n",
              "            buffers.push(buffer);\n",
              "            downloaded += buffer.byteLength;\n",
              "            progress.value = downloaded;\n",
              "          }\n",
              "        }\n",
              "      }\n",
              "      const blob = new Blob(buffers, {type: 'application/binary'});\n",
              "      const a = document.createElement('a');\n",
              "      a.href = window.URL.createObjectURL(blob);\n",
              "      a.download = filename;\n",
              "      div.appendChild(a);\n",
              "      a.click();\n",
              "      div.remove();\n",
              "    }\n",
              "  "
            ]
          },
          "metadata": {}
        },
        {
          "output_type": "display_data",
          "data": {
            "text/plain": [
              "<IPython.core.display.Javascript object>"
            ],
            "application/javascript": [
              "download(\"download_682676b5-692a-4966-a843-02865f740ee1\", \"todownload.zip\", 643879595)"
            ]
          },
          "metadata": {}
        }
      ]
    },
    {
      "cell_type": "code",
      "source": [
        "!cd model"
      ],
      "metadata": {
        "id": "YU9veckP8ivI"
      },
      "execution_count": null,
      "outputs": []
    },
    {
      "cell_type": "markdown",
      "metadata": {
        "id": "DjvnIhajJmse"
      },
      "source": [
        "# Evaluate the model on validation data when training is done"
      ]
    },
    {
      "cell_type": "code",
      "execution_count": null,
      "metadata": {
        "colab": {
          "base_uri": "https://localhost:8080/"
        },
        "id": "YOJ-qNACJmse",
        "outputId": "c17820b6-2a64-4c06-ad45-d1ea272991e9"
      },
      "outputs": [
        {
          "output_type": "stream",
          "name": "stdout",
          "text": [
            "20/20 [==============================] - 5s 224ms/step - loss: 0.9646 - acc: 0.8494\n",
            "loss: 0.96\n",
            "acc: 0.85\n"
          ]
        }
      ],
      "source": [
        "loss, acc = model.evaluate(val_ds)  # returns loss and metrics\n",
        "print(\"loss: %.2f\" % loss)\n",
        "print(\"acc: %.2f\" % acc)"
      ]
    },
    {
      "cell_type": "markdown",
      "metadata": {
        "id": "cUu9U-lNJmsf"
      },
      "source": [
        "# Run Inference on data"
      ]
    },
    {
      "cell_type": "code",
      "execution_count": null,
      "metadata": {
        "colab": {
          "base_uri": "https://localhost:8080/"
        },
        "id": "LvzwdFySJmsf",
        "outputId": "9d2b1570-595a-45e2-cc18-ebccd9720ad2"
      },
      "outputs": [
        {
          "output_type": "stream",
          "name": "stdout",
          "text": [
            "1/1 [==============================] - 0s 41ms/step\n",
            "[9.9949360e-01 3.4485055e-07 1.8971087e-04 1.4177788e-15 3.1630590e-04]\n",
            "This image is\n",
            " 99.95% Acne,\n",
            " 0.00% Wrinkles,       \n",
            " 0.02% Dry skin,\n",
            " 0.00% Normal skin,\n",
            " 0.03% Oily skin.\n"
          ]
        }
      ],
      "source": [
        "img = tf.keras.preprocessing.image.load_img(\n",
        "    # \"00 - Datasets split by class - Watermark Removed/01 - Acne/07RosaceaFulFAcepart_2.jpg\", target_size=rescale_image_size\n",
        "    # \"/content/guy with acne.jpg\", target_size=rescale_image_size\n",
        "    \"/content/me regular portrait.jpg\", target_size=rescale_image_size\n",
        "\n",
        ")\n",
        "img_array = tf.keras.preprocessing.image.img_to_array(img)\n",
        "img_array = tf.expand_dims(img_array, 0)  # Create batch axis\n",
        "\n",
        "predictions = model.predict(img_array)\n",
        "print(predictions[0])\n",
        "score = predictions[0]\n",
        "print(f\"This image is\\n {100 * score[0]:.2f}% Acne,\\n {100 * score[1]:.2f}% Wrinkles, \\\n",
        "      \\n {100 * score[2]:.2f}% Dry skin,\\n {100 * score[3]:.2f}% Normal skin,\\n {100 * score[4]:.2f}% Oily skin.\")"
      ]
    },
    {
      "cell_type": "markdown",
      "metadata": {
        "id": "3XKI6kw1Jmsf"
      },
      "source": [
        "# Finding the best model configuration with hyperparameter tuning"
      ]
    },
    {
      "cell_type": "code",
      "execution_count": null,
      "metadata": {
        "id": "B9CeBrGjJmsf"
      },
      "outputs": [],
      "source": [
        "# Put model in a function\n",
        "# Use hp argument (hyperparameter) in any parameter to tell Keras to tune it\n",
        "def build_model(hp):\n",
        "    inputs = tf.keras.Input(shape=(784,))\n",
        "    x = tf.keras.layers.Dense(\n",
        "        units=hp.Int('units', min_value=32, max_value=512, step=32),\n",
        "        activation='relu')(inputs)\n",
        "    outputs = tf.keras.layers.Dense(10, activation='softmax')(x)\n",
        "    model = tf.keras.Model(inputs, outputs)\n",
        "    model.compile(\n",
        "        optimizer=keras.optimizers.Adam(hp.Choice('learning_rate', values=[1e-2, 1e-3, 1e-4])),\n",
        "        loss='sparse_categorical_crossentropy',\n",
        "        metrics=['accuracy'])\n",
        "    return model"
      ]
    },
    {
      "cell_type": "code",
      "execution_count": null,
      "metadata": {
        "id": "3533r43hJmsf"
      },
      "outputs": [],
      "source": [
        "import keras_tuner\n",
        "\n",
        "tuner = keras_tuner.tuners.Hyperband(\n",
        "  build_model,\n",
        "  objective='val_loss',\n",
        "  max_epochs=100,\n",
        "  max_trials=200,\n",
        "  executions_per_trial=2,\n",
        "  directory='my_dir')"
      ]
    },
    {
      "cell_type": "markdown",
      "metadata": {
        "id": "UOuMbqcmJmsg"
      },
      "source": [
        "# MNIST model example"
      ]
    },
    {
      "cell_type": "code",
      "execution_count": null,
      "metadata": {
        "id": "W5CzmKOmJmsg"
      },
      "outputs": [],
      "source": [
        "# Get the data as Numpy arrays\n",
        "(x_train, y_train), (x_test, y_test) = keras.datasets.mnist.load_data()\n",
        "\n",
        "# Build a simple model\n",
        "inputs = tf.keras.Input(shape=(28, 28))\n",
        "x = tf.keras.layers.Rescaling(1.0 / 255)(inputs)\n",
        "x = tf.keras.layers.Flatten()(x)\n",
        "x = tf.keras.layers.Dense(128, activation=\"relu\")(x)\n",
        "x = tf.keras.layers.Dense(128, activation=\"relu\")(x)\n",
        "outputs = tf.keras.layers.Dense(10, activation=\"softmax\")(x)\n",
        "model = tf.keras.Model(inputs, outputs)\n",
        "model.summary()\n",
        "\n",
        "# Compile the model\n",
        "model.compile(optimizer=\"adam\", loss=\"sparse_categorical_crossentropy\")"
      ]
    }
  ],
  "metadata": {
    "kernelspec": {
      "display_name": "Python 3",
      "language": "python",
      "name": "python3"
    },
    "language_info": {
      "codemirror_mode": {
        "name": "ipython",
        "version": 3
      },
      "file_extension": ".py",
      "mimetype": "text/x-python",
      "name": "python",
      "nbconvert_exporter": "python",
      "pygments_lexer": "ipython3",
      "version": "3.8.3"
    },
    "orig_nbformat": 4,
    "colab": {
      "provenance": [],
      "gpuType": "T4",
      "include_colab_link": true
    },
    "accelerator": "GPU",
    "gpuClass": "standard"
  },
  "nbformat": 4,
  "nbformat_minor": 0
}