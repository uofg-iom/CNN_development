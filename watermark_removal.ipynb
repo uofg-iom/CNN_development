{
 "cells": [
  {
   "cell_type": "code",
   "execution_count": 189,
   "metadata": {},
   "outputs": [],
   "source": [
    "import numpy as np\n",
    "import os\n",
    "import glob\n",
    "import cv2\n",
    "import pathlib\n",
    "\n",
    "def img_cropper(img_path, mid):\n",
    "    img = cv2.imread(img_path)\n",
    "    if mid:\n",
    "        height, width, channels = img.shape\n",
    "        crop_img_1 = img[: (height//2 - 14), :]\n",
    "        crop_img_2 = img[(height//2 + 18):, :]\n",
    "        # cv2.imshow(\"cropped_1\", crop_img_1)\n",
    "        # cv2.imshow(\"cropped_2\", crop_img_2)\n",
    "        # cv2.waitKey() #image will not show until this is called\n",
    "        # cv2.destroyWindow(\"cropped_1\") \n",
    "        # cv2.destroyWindow(\"cropped_2\") \n",
    "        return crop_img_1, crop_img_2\n",
    "    else:\n",
    "        crop_img = img[:, 155:]\n",
    "        # cv2.imshow(\"cropped\", crop_img)\n",
    "        # cv2.waitKey() #image will not show until this is called\n",
    "        # cv2.destroyWindow(\"cropped\") \n",
    "        return crop_img\n",
    "\n",
    "    \n",
    "def watermark_remover(folder_path, new_folder_path, mid):\n",
    "    all_subfolder_paths = os.listdir(folder_path)\n",
    "\n",
    "    for sub_dir in all_subfolder_paths:\n",
    "        \n",
    "        path_list = [f for f in glob.glob(folder_path + sub_dir + \"/*\")]\n",
    "        files = os.listdir(folder_path + sub_dir)\n",
    "        file_names = [os.path.splitext(f)[0] for f in files]\n",
    "        file_extensions = [os.path.splitext(f)[1] for f in files]\n",
    "        \n",
    "        for i, img_path in enumerate(path_list):\n",
    "            if mid:\n",
    "                cropped_imgs = img_cropper(img_path, mid)\n",
    "                cv2.imwrite(new_folder_path + sub_dir + \"/\" + file_names[i] + \"part_1\" + \".jpg\", cropped_imgs[0])\n",
    "                cv2.imwrite(new_folder_path + sub_dir + \"/\" + file_names[i] + \"part_2\" + \".jpg\", cropped_imgs[1])\n",
    "            else:\n",
    "                cv2.imwrite(new_folder_path + sub_dir + \"/\" + file_names[i] + \".jpg\", img_cropper(img_path, mid))\n",
    "                "
   ]
  },
  {
   "attachments": {},
   "cell_type": "markdown",
   "metadata": {},
   "source": [
    "Remove Watermark from bottom left part of image (or center) by cropping it out.\n",
    "1st DermNet dataset had watermarks at the center of the image, hence it is easy to locate the mid-point of the image dimensions and remove it.\n",
    "2nd DermNet dataset had watermarks at the bottom left of the image."
   ]
  },
  {
   "cell_type": "code",
   "execution_count": 190,
   "metadata": {},
   "outputs": [],
   "source": [
    "folder_path = \"dataset_source_path\"\n",
    "cntr_wtrm_folder_path = \"dataset_source_path\"\n",
    "new_folder_path = \"path_to_destination_folder\"\n",
    "\n",
    "# 3rd Argument mid is used to specify whether to crop from the mid-point of the image or the bottom left\n",
    "watermark_remover(cntr_wtrm_folder_path, new_folder_path, True)"
   ]
  }
 ],
 "metadata": {
  "kernelspec": {
   "display_name": "base",
   "language": "python",
   "name": "python3"
  },
  "language_info": {
   "codemirror_mode": {
    "name": "ipython",
    "version": 3
   },
   "file_extension": ".py",
   "mimetype": "text/x-python",
   "name": "python",
   "nbconvert_exporter": "python",
   "pygments_lexer": "ipython3",
   "version": "3.8.3"
  },
  "orig_nbformat": 4
 },
 "nbformat": 4,
 "nbformat_minor": 2
}
