{
 "cells": [
  {
   "cell_type": "code",
   "execution_count": 2,
   "metadata": {},
   "outputs": [],
   "source": [
    "import numpy as np\n",
    "import os\n",
    "import glob\n",
    "import cv2\n",
    "import pathlib\n",
    "\n",
    "def img_cropper(img_path, mid):\n",
    "    img = cv2.imread(img_path)\n",
    "    if mid:\n",
    "        height, width, channels = img.shape\n",
    "        crop_img_1 = img[: (height//2 - 14), :]\n",
    "        crop_img_2 = img[(height//2 + 18):, :]\n",
    "        # cv2.imshow(\"cropped_1\", crop_img_1)\n",
    "        # cv2.imshow(\"cropped_2\", crop_img_2)\n",
    "        # cv2.waitKey() #image will not show until this is called\n",
    "        # cv2.destroyWindow(\"cropped_1\") \n",
    "        # cv2.destroyWindow(\"cropped_2\") \n",
    "        return crop_img_1, crop_img_2\n",
    "    else:\n",
    "        crop_img = img[:, 155:]\n",
    "        # cv2.imshow(\"cropped\", crop_img)\n",
    "        # cv2.waitKey() #image will not show until this is called\n",
    "        # cv2.destroyWindow(\"cropped\") \n",
    "        return crop_img\n",
    "\n",
    "    \n",
    "def watermark_remover(folder_path, new_folder_path, mid):\n",
    "    all_subfolder_paths = os.listdir(folder_path)\n",
    "\n",
    "    for sub_dir in all_subfolder_paths:\n",
    "        \n",
    "        path_list = [f for f in glob.glob(folder_path + sub_dir + \"/*\")]\n",
    "        files = os.listdir(folder_path + sub_dir)\n",
    "        file_names = [os.path.splitext(f)[0] for f in files]\n",
    "        file_extensions = [os.path.splitext(f)[1] for f in files]\n",
    "        \n",
    "        for i, img_path in enumerate(path_list):\n",
    "            if mid:\n",
    "                cropped_imgs = img_cropper(img_path, mid)\n",
    "                cv2.imwrite(new_folder_path + sub_dir + \"/\" + file_names[i] + \"part_1\" + \".jpg\", cropped_imgs[0])\n",
    "                cv2.imwrite(new_folder_path + sub_dir + \"/\" + file_names[i] + \"part_2\" + \".jpg\", cropped_imgs[1])\n",
    "            else:\n",
    "                cv2.imwrite(new_folder_path + sub_dir + \"/\" + file_names[i] + \".jpg\", img_cropper(img_path, mid))\n",
    "                \n",
    "                \n",
    "def convert2jpg(folder_path, new_folder_path):\n",
    "    all_subfolder_paths = os.listdir(folder_path)\n",
    "\n",
    "    for sub_dir in all_subfolder_paths:\n",
    "        \n",
    "        path_list = [f for f in glob.glob(folder_path + sub_dir + \"/*\")]\n",
    "        files = os.listdir(folder_path + sub_dir)\n",
    "        file_names = [os.path.splitext(f)[0] for f in files]\n",
    "        file_extensions = [os.path.splitext(f)[1] for f in files]\n",
    "        \n",
    "        for i, img_path in enumerate(path_list):\n",
    "            if(not(file_extensions[i] == \".jpg\")):\n",
    "                image = cv2.imread(img_path)\n",
    "                if image is None:\n",
    "                    print(\"Image at \" + img_path + \" is empty\")\n",
    "                else:\n",
    "                    cv2.imwrite(new_folder_path + sub_dir + \"/\" + file_names[i] + \".jpg\", cv2.imread(img_path))\n",
    "                    print(file_extensions[i])\n",
    "                    "
   ]
  },
  {
   "attachments": {},
   "cell_type": "markdown",
   "metadata": {},
   "source": [
    "Remove Watermark from bottom left part of image (or center) by cropping it out.\n",
    "1st DermNet dataset had watermarks at the center of the image, hence it is easy to locate the mid-point of the image dimensions and remove it.\n",
    "2nd DermNet dataset had watermarks at the bottom left of the image."
   ]
  },
  {
   "cell_type": "code",
   "execution_count": 3,
   "metadata": {},
   "outputs": [],
   "source": [
    "folder_path = \"D:/YEAR_5/DST5/DST Code/CNN_development/00 - Datasets split by class - Watermark Removed/\"\n",
    "cntr_wtrm_folder_path = \"dataset_source_path\"\n",
    "new_folder_path = \"D:/YEAR_5/DST5/DST Code/CNN_development/00 - Datasets split by class - Watermark Removed/\"\n",
    "\n",
    "# 3rd Argument mid is used to specify whether to crop from the mid-point of the image or the bottom left\n",
    "# watermark_remover(cntr_wtrm_folder_path, new_folder_path, True)\n",
    "# convert2jpg(folder_path, new_folder_path)"
   ]
  },
  {
   "attachments": {},
   "cell_type": "markdown",
   "metadata": {},
   "source": [
    "# Helper loop to check if images are accepted by TF"
   ]
  },
  {
   "cell_type": "code",
   "execution_count": 4,
   "metadata": {},
   "outputs": [
    {
     "name": "stdout",
     "output_type": "stream",
     "text": [
      "D:\\YEAR_5\\DST5\\DST Code\\CNN_development\\00 - Datasets split by class - Watermark Removed\\03 - Dry skin\\24604-eczema-on-face.jpg is a webp, not accepted by TensorFlow\n",
      "D:\\YEAR_5\\DST5\\DST Code\\CNN_development\\00 - Datasets split by class - Watermark Removed\\05 - Oily skin\\11-08-2022_CONCEALERS-FOR-OILY-SKIN_EDITED-ARTICLE.jpg is not an image\n",
      "D:\\YEAR_5\\DST5\\DST Code\\CNN_development\\00 - Datasets split by class - Watermark Removed\\05 - Oily skin\\depositphotos_271851870-stock-photo-closeup-male-skin-pores-face.jpg is a webp, not accepted by TensorFlow\n",
      "D:\\YEAR_5\\DST5\\DST Code\\CNN_development\\00 - Datasets split by class - Watermark Removed\\05 - Oily skin\\EDITED-ARTICLE-7.jpg is not an image\n",
      "D:\\YEAR_5\\DST5\\DST Code\\CNN_development\\00 - Datasets split by class - Watermark Removed\\05 - Oily skin\\unnamed_b3a07933-4cf8-4c0d-82e8-9fe4fcedce35_2048x.progressive.jpg is a webp, not accepted by TensorFlow\n"
     ]
    }
   ],
   "source": [
    "from pathlib import Path\n",
    "import imghdr\n",
    "\n",
    "image_extensions = [\".png\", \".jpg\"]  # add there all your images file extensions\n",
    "\n",
    "img_type_accepted_by_tf = [\"bmp\", \"gif\", \"jpeg\", \"png\"]\n",
    "for filepath in Path(folder_path).rglob(\"*\"):\n",
    "    if filepath.suffix.lower() in image_extensions:\n",
    "        img_type = imghdr.what(filepath)\n",
    "        if img_type is None:\n",
    "            print(f\"{filepath} is not an image\")\n",
    "        elif img_type not in img_type_accepted_by_tf:\n",
    "            print(f\"{filepath} is a {img_type}, not accepted by TensorFlow\")"
   ]
  }
 ],
 "metadata": {
  "kernelspec": {
   "display_name": "base",
   "language": "python",
   "name": "python3"
  },
  "language_info": {
   "codemirror_mode": {
    "name": "ipython",
    "version": 3
   },
   "file_extension": ".py",
   "mimetype": "text/x-python",
   "name": "python",
   "nbconvert_exporter": "python",
   "pygments_lexer": "ipython3",
   "version": "3.8.3"
  },
  "orig_nbformat": 4
 },
 "nbformat": 4,
 "nbformat_minor": 2
}
