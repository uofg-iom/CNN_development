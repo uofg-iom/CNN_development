{
 "cells": [
  {
   "cell_type": "code",
   "execution_count": 35,
   "metadata": {},
   "outputs": [],
   "source": [
    "import numpy as np\n",
    "import os\n",
    "import glob\n",
    "import cv2\n",
    "import pathlib\n",
    "\n",
    "def img_cropper(img_path, mid):\n",
    "    img = cv2.imread(img_path)\n",
    "    if mid:\n",
    "        height, width, channels = img.shape\n",
    "        crop_img_1 = img[: (height//2 - 14), :]\n",
    "        crop_img_2 = img[(height//2 + 18):, :]\n",
    "        # cv2.imshow(\"cropped_1\", crop_img_1)\n",
    "        # cv2.imshow(\"cropped_2\", crop_img_2)\n",
    "        # cv2.waitKey() #image will not show until this is called\n",
    "        # cv2.destroyWindow(\"cropped_1\") \n",
    "        # cv2.destroyWindow(\"cropped_2\") \n",
    "        return crop_img_1, crop_img_2\n",
    "    else:\n",
    "        crop_img = img[:, 155:]\n",
    "        # cv2.imshow(\"cropped\", crop_img)\n",
    "        # cv2.waitKey() #image will not show until this is called\n",
    "        # cv2.destroyWindow(\"cropped\") \n",
    "        return crop_img\n",
    "\n",
    "    \n",
    "def watermark_remover(folder_path, new_folder_path, mid):\n",
    "    all_subfolder_paths = os.listdir(folder_path)\n",
    "\n",
    "    for sub_dir in all_subfolder_paths:\n",
    "        \n",
    "        path_list = [f for f in glob.glob(folder_path + sub_dir + \"/*\")]\n",
    "        files = os.listdir(folder_path + sub_dir)\n",
    "        file_names = [os.path.splitext(f)[0] for f in files]\n",
    "        file_extensions = [os.path.splitext(f)[1] for f in files]\n",
    "        \n",
    "        for i, img_path in enumerate(path_list):\n",
    "            if mid:\n",
    "                cropped_imgs = img_cropper(img_path, mid)\n",
    "                cv2.imwrite(new_folder_path + sub_dir + \"/\" + file_names[i] + \"part_1\" + \".jpg\", cropped_imgs[0])\n",
    "                cv2.imwrite(new_folder_path + sub_dir + \"/\" + file_names[i] + \"part_2\" + \".jpg\", cropped_imgs[1])\n",
    "            else:\n",
    "                cv2.imwrite(new_folder_path + sub_dir + \"/\" + file_names[i] + \".jpg\", img_cropper(img_path, mid))\n",
    "                \n",
    "                \n",
    "def convert2jpg(folder_path, new_folder_path):\n",
    "    all_subfolder_paths = os.listdir(folder_path)\n",
    "\n",
    "    for sub_dir in all_subfolder_paths:\n",
    "        \n",
    "        path_list = [f for f in glob.glob(folder_path + sub_dir + \"/*\")]\n",
    "        files = os.listdir(folder_path + sub_dir)\n",
    "        file_names = [os.path.splitext(f)[0] for f in files]\n",
    "        file_extensions = [os.path.splitext(f)[1] for f in files]\n",
    "        \n",
    "        for i, img_path in enumerate(path_list):\n",
    "            if(not(file_extensions[i] == \".jpg\")):\n",
    "                image = cv2.imread(img_path)\n",
    "                if image is None:\n",
    "                    print(\"Image at \" + img_path + \" is empty\")\n",
    "                else:\n",
    "                    cv2.imwrite(new_folder_path + sub_dir + \"/\" + file_names[i] + \".jpg\", cv2.imread(img_path))\n",
    "                    print(file_extensions[i])\n",
    "                    "
   ]
  },
  {
   "attachments": {},
   "cell_type": "markdown",
   "metadata": {},
   "source": [
    "Remove Watermark from bottom left part of image (or center) by cropping it out.\n",
    "1st DermNet dataset had watermarks at the center of the image, hence it is easy to locate the mid-point of the image dimensions and remove it.\n",
    "2nd DermNet dataset had watermarks at the bottom left of the image."
   ]
  },
  {
   "cell_type": "code",
   "execution_count": 36,
   "metadata": {},
   "outputs": [
    {
     "ename": "error",
     "evalue": "OpenCV(4.5.4) :-1: error: (-5:Bad argument) in function 'imwrite'\n> Overload resolution failed:\n>  - imwrite() missing required argument 'img' (pos 2)\n>  - imwrite() missing required argument 'img' (pos 2)\n",
     "output_type": "error",
     "traceback": [
      "\u001b[1;31m---------------------------------------------------------------------------\u001b[0m",
      "\u001b[1;31merror\u001b[0m                                     Traceback (most recent call last)",
      "Cell \u001b[1;32mIn[36], line 7\u001b[0m\n\u001b[0;32m      3\u001b[0m new_folder_path \u001b[39m=\u001b[39m \u001b[39m\"\u001b[39m\u001b[39mD:/YEAR_5/DST5/DST Code/CNN_development/00 - Datasets split by class - Watermark Removed/\u001b[39m\u001b[39m\"\u001b[39m\n\u001b[0;32m      5\u001b[0m \u001b[39m# 3rd Argument mid is used to specify whether to crop from the mid-point of the image or the bottom left\u001b[39;00m\n\u001b[0;32m      6\u001b[0m \u001b[39m# watermark_remover(cntr_wtrm_folder_path, new_folder_path, True)\u001b[39;00m\n\u001b[1;32m----> 7\u001b[0m convert2jpg(folder_path, new_folder_path)\n",
      "Cell \u001b[1;32mIn[35], line 62\u001b[0m, in \u001b[0;36mconvert2jpg\u001b[1;34m(folder_path, new_folder_path)\u001b[0m\n\u001b[0;32m     60\u001b[0m     \u001b[39mprint\u001b[39m(\u001b[39m\"\u001b[39m\u001b[39mImage at \u001b[39m\u001b[39m\"\u001b[39m \u001b[39m+\u001b[39m img_path \u001b[39m+\u001b[39m \u001b[39m\"\u001b[39m\u001b[39m is empty\u001b[39m\u001b[39m\"\u001b[39m)\n\u001b[0;32m     61\u001b[0m \u001b[39melse\u001b[39;00m:\n\u001b[1;32m---> 62\u001b[0m     cv2\u001b[39m.\u001b[39;49mimwrite(new_folder_path \u001b[39m+\u001b[39;49m sub_dir \u001b[39m+\u001b[39;49m \u001b[39m\"\u001b[39;49m\u001b[39m/\u001b[39;49m\u001b[39m\"\u001b[39;49m \u001b[39m+\u001b[39;49m file_names[i] \u001b[39m+\u001b[39;49m \u001b[39m\"\u001b[39;49m\u001b[39m.jpg\u001b[39;49m\u001b[39m\"\u001b[39;49m, )\n\u001b[0;32m     63\u001b[0m     \u001b[39mprint\u001b[39m(file_extensions[i])\n",
      "\u001b[1;31merror\u001b[0m: OpenCV(4.5.4) :-1: error: (-5:Bad argument) in function 'imwrite'\n> Overload resolution failed:\n>  - imwrite() missing required argument 'img' (pos 2)\n>  - imwrite() missing required argument 'img' (pos 2)\n"
     ]
    }
   ],
   "source": [
    "folder_path = \"D:/YEAR_5/DST5/DST Code/CNN_development/00 - Datasets split by class - Watermark Removed/\"\n",
    "cntr_wtrm_folder_path = \"dataset_source_path\"\n",
    "new_folder_path = \"D:/YEAR_5/DST5/DST Code/CNN_development/00 - Datasets split by class - Watermark Removed/\"\n",
    "\n",
    "# 3rd Argument mid is used to specify whether to crop from the mid-point of the image or the bottom left\n",
    "# watermark_remover(cntr_wtrm_folder_path, new_folder_path, True)\n",
    "convert2jpg(folder_path, new_folder_path)"
   ]
  }
 ],
 "metadata": {
  "kernelspec": {
   "display_name": "base",
   "language": "python",
   "name": "python3"
  },
  "language_info": {
   "codemirror_mode": {
    "name": "ipython",
    "version": 3
   },
   "file_extension": ".py",
   "mimetype": "text/x-python",
   "name": "python",
   "nbconvert_exporter": "python",
   "pygments_lexer": "ipython3",
   "version": "3.8.3"
  },
  "orig_nbformat": 4
 },
 "nbformat": 4,
 "nbformat_minor": 2
}
