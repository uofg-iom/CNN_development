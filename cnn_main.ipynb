{
  "cells": [
    {
      "cell_type": "code",
      "execution_count": 1,
      "metadata": {},
      "outputs": [],
      "source": [
        "import cnn_model\n",
        "import os\n"
      ]
    },
    {
      "cell_type": "code",
      "execution_count": 2,
      "metadata": {},
      "outputs": [
        {
          "name": "stdout",
          "output_type": "stream",
          "text": [
            "Found 1562 files belonging to 5 classes.\n",
            "Using 1250 files for training.\n",
            "Using 312 files for validation.\n",
            "Classifications: \n",
            " ['01 - Acne', '02 - Wrinkles', '03 - Dry skin', '04 - Normal skin', '05 - Oily skin']\n"
          ]
        }
      ],
      "source": [
        "dataset_path = \"CNN_development/00 - Datasets split by class - Watermark Removed/\"\n",
        "dataset_path = \"00 - Datasets split by class - Watermark Removed/\"\n",
        "model_callback_path = \"CNN_development/model/\"\n",
        "trained_model_path = \"D:/YEAR_5/DST5/Trained Models/trained_model_120_epoch/trained_model_120_epoch/\"\n",
        "\n",
        "# Initialise the SkinTypeModel object\n",
        "model_obj = cnn_model.SkinTypeModel(dataset_path, model_callback_path)\n",
        "\n",
        "# If a pre-trained model exists, load it here\n",
        "model_obj.load_model(trained_model_path)\n",
        "# model_obj.show_train_dataset()\n",
        "\n",
        "# ====== Build Model ======\n",
        "# model = model_obj.build_model(len(model_obj.class_names), cnn_model.ModelType.ResNet152)\n",
        "# model.summary()\n",
        "\n",
        "# ====== Train Model ======\n",
        "# model_obj.train_model()\n"
      ]
    },
    {
      "cell_type": "code",
      "execution_count": 4,
      "metadata": {},
      "outputs": [
        {
          "name": "stdout",
          "output_type": "stream",
          "text": [
            "acne1.jpg\n",
            "1/1 [==============================] - 1s 1s/step\n",
            "[2.1583357e-01 4.4760020e-03 5.1972442e-03 1.9997979e-05 7.7447319e-01]\n",
            "This image is\n",
            " 21.58% Acne,\n",
            " 0.45% Wrinkles,             \n",
            " 0.52% Dry skin,\n",
            " 0.00% Normal skin,\n",
            " 77.45% Oily skin.\n",
            "acne2.jpg\n",
            "1/1 [==============================] - 1s 1s/step\n",
            "[9.9815589e-01 4.5132716e-04 7.5836397e-05 1.4182555e-06 1.3155870e-03]\n",
            "This image is\n",
            " 99.82% Acne,\n",
            " 0.05% Wrinkles,             \n",
            " 0.01% Dry skin,\n",
            " 0.00% Normal skin,\n",
            " 0.13% Oily skin.\n",
            "acne3.jpg\n",
            "1/1 [==============================] - 1s 1s/step\n",
            "[9.5115805e-01 1.2047431e-06 1.9013783e-03 1.9657037e-04 4.6742797e-02]\n",
            "This image is\n",
            " 95.12% Acne,\n",
            " 0.00% Wrinkles,             \n",
            " 0.19% Dry skin,\n",
            " 0.02% Normal skin,\n",
            " 4.67% Oily skin.\n",
            "acne4.jpg\n",
            "1/1 [==============================] - 1s 1s/step\n",
            "[9.74236727e-01 3.93238850e-03 7.33810524e-03 1.44874565e-02\n",
            " 5.34360970e-06]\n",
            "This image is\n",
            " 97.42% Acne,\n",
            " 0.39% Wrinkles,             \n",
            " 0.73% Dry skin,\n",
            " 1.45% Normal skin,\n",
            " 0.00% Oily skin.\n",
            "acne5.jpg\n",
            "1/1 [==============================] - 1s 932ms/step\n",
            "[9.4796747e-01 1.6984806e-09 6.2840947e-05 6.1508177e-07 5.1969066e-02]\n",
            "This image is\n",
            " 94.80% Acne,\n",
            " 0.00% Wrinkles,             \n",
            " 0.01% Dry skin,\n",
            " 0.00% Normal skin,\n",
            " 5.20% Oily skin.\n"
          ]
        }
      ],
      "source": [
        "# ====== Evaluate and Infere Model ======\n",
        "# model_obj.eval_model()\n",
        "test_ds_path = \"D:/YEAR_5/DST5/DST Code/CNN_development/test_dataset/\"\n",
        "for image in os.listdir(test_ds_path + \"01 - Acne/\"):\n",
        "    print(\"\\n\" + image)\n",
        "    model_obj.infere_model(test_ds_path + \"01 - Acne/\" + image)\n",
        "    "
      ]
    },
    {
      "cell_type": "code",
      "execution_count": 5,
      "metadata": {},
      "outputs": [
        {
          "name": "stdout",
          "output_type": "stream",
          "text": [
            "wrinkles.jpg\n",
            "1/1 [==============================] - 1s 1s/step\n",
            "[9.6459377e-01 3.5195179e-02 7.5025291e-08 1.8915533e-04 2.1773523e-05]\n",
            "This image is\n",
            " 96.46% Acne,\n",
            " 3.52% Wrinkles,             \n",
            " 0.00% Dry skin,\n",
            " 0.02% Normal skin,\n",
            " 0.00% Oily skin.\n",
            "wrinkles2.jpg\n",
            "1/1 [==============================] - 1s 967ms/step\n",
            "[7.3786962e-01 2.5540543e-01 6.5855716e-08 6.7221983e-03 2.6074686e-06]\n",
            "This image is\n",
            " 73.79% Acne,\n",
            " 25.54% Wrinkles,             \n",
            " 0.00% Dry skin,\n",
            " 0.67% Normal skin,\n",
            " 0.00% Oily skin.\n",
            "wrinkles3.jpg\n",
            "1/1 [==============================] - 1s 1s/step\n",
            "[7.6565981e-02 9.0004551e-01 1.0711273e-02 1.2573913e-02 1.0330739e-04]\n",
            "This image is\n",
            " 7.66% Acne,\n",
            " 90.00% Wrinkles,             \n",
            " 1.07% Dry skin,\n",
            " 1.26% Normal skin,\n",
            " 0.01% Oily skin.\n",
            "wrinkles4.jpg\n",
            "1/1 [==============================] - 1s 1s/step\n",
            "[9.9947351e-01 5.2619400e-04 1.4398153e-08 8.4913987e-10 3.7680806e-07]\n",
            "This image is\n",
            " 99.95% Acne,\n",
            " 0.05% Wrinkles,             \n",
            " 0.00% Dry skin,\n",
            " 0.00% Normal skin,\n",
            " 0.00% Oily skin.\n",
            "wrinkles5.jpg\n",
            "1/1 [==============================] - 1s 1s/step\n",
            "[7.6980948e-01 2.3018141e-01 3.0422459e-08 4.5865190e-06 4.4799863e-06]\n",
            "This image is\n",
            " 76.98% Acne,\n",
            " 23.02% Wrinkles,             \n",
            " 0.00% Dry skin,\n",
            " 0.00% Normal skin,\n",
            " 0.00% Oily skin.\n"
          ]
        }
      ],
      "source": [
        "for image in os.listdir(test_ds_path + \"02 - Wrinkles/\"):\n",
        "    print(\"\\n\" + image)\n",
        "    model_obj.infere_model(test_ds_path + \"02 - Wrinkles/\" + image)"
      ]
    },
    {
      "cell_type": "code",
      "execution_count": 6,
      "metadata": {},
      "outputs": [
        {
          "name": "stdout",
          "output_type": "stream",
          "text": [
            "\n",
            "dry1.jpg\n",
            "1/1 [==============================] - 2s 2s/step\n",
            "[0.3247018  0.40139434 0.10232949 0.00074826 0.1708261 ]\n",
            "This image is\n",
            " 32.47% Acne,\n",
            " 40.14% Wrinkles,             \n",
            " 10.23% Dry skin,\n",
            " 0.07% Normal skin,\n",
            " 17.08% Oily skin.\n",
            "\n",
            "dry2.jpg\n",
            "1/1 [==============================] - 1s 1s/step\n",
            "[9.9988329e-01 1.9774450e-05 3.6739682e-05 2.0453490e-07 5.9916118e-05]\n",
            "This image is\n",
            " 99.99% Acne,\n",
            " 0.00% Wrinkles,             \n",
            " 0.00% Dry skin,\n",
            " 0.00% Normal skin,\n",
            " 0.01% Oily skin.\n",
            "\n",
            "dry3.jpg\n",
            "1/1 [==============================] - 1s 1s/step\n",
            "[5.6946844e-01 3.4474633e-03 3.6820605e-01 6.6613484e-07 5.8877386e-02]\n",
            "This image is\n",
            " 56.95% Acne,\n",
            " 0.34% Wrinkles,             \n",
            " 36.82% Dry skin,\n",
            " 0.00% Normal skin,\n",
            " 5.89% Oily skin.\n",
            "\n",
            "dry4.jpg\n",
            "1/1 [==============================] - 1s 1s/step\n",
            "[1.4339387e-02 9.7113657e-01 3.7536302e-04 1.8536884e-05 1.4130142e-02]\n",
            "This image is\n",
            " 1.43% Acne,\n",
            " 97.11% Wrinkles,             \n",
            " 0.04% Dry skin,\n",
            " 0.00% Normal skin,\n",
            " 1.41% Oily skin.\n",
            "\n",
            "dry5.jpg\n",
            "1/1 [==============================] - 1s 1s/step\n",
            "[0.11915445 0.32580617 0.10728714 0.44168988 0.00606231]\n",
            "This image is\n",
            " 11.92% Acne,\n",
            " 32.58% Wrinkles,             \n",
            " 10.73% Dry skin,\n",
            " 44.17% Normal skin,\n",
            " 0.61% Oily skin.\n"
          ]
        }
      ],
      "source": [
        "for image in os.listdir(test_ds_path + \"03 - Dry skin/\"):\n",
        "    print(\"\\n\" + image)\n",
        "    model_obj.infere_model(test_ds_path + \"03 - Dry skin/\" + image)"
      ]
    },
    {
      "cell_type": "code",
      "execution_count": 7,
      "metadata": {},
      "outputs": [
        {
          "name": "stdout",
          "output_type": "stream",
          "text": [
            "\n",
            "oily1.jpg\n",
            "1/1 [==============================] - 1s 1s/step\n",
            "[0.560862   0.03542639 0.03033425 0.33144295 0.04193448]\n",
            "This image is\n",
            " 56.09% Acne,\n",
            " 3.54% Wrinkles,             \n",
            " 3.03% Dry skin,\n",
            " 33.14% Normal skin,\n",
            " 4.19% Oily skin.\n",
            "\n",
            "oily2.jpg\n",
            "1/1 [==============================] - 1s 1s/step\n",
            "[8.8503366e-06 1.0103871e-03 4.0518134e-03 1.3450407e-03 9.9358386e-01]\n",
            "This image is\n",
            " 0.00% Acne,\n",
            " 0.10% Wrinkles,             \n",
            " 0.41% Dry skin,\n",
            " 0.13% Normal skin,\n",
            " 99.36% Oily skin.\n",
            "\n",
            "oily3.jpg\n",
            "1/1 [==============================] - 1s 1s/step\n",
            "[9.2205995e-01 6.4382255e-02 1.5106227e-07 1.0723612e-02 2.8340796e-03]\n",
            "This image is\n",
            " 92.21% Acne,\n",
            " 6.44% Wrinkles,             \n",
            " 0.00% Dry skin,\n",
            " 1.07% Normal skin,\n",
            " 0.28% Oily skin.\n",
            "\n",
            "oily4.jpg\n",
            "1/1 [==============================] - 1s 1s/step\n",
            "[9.9940789e-01 4.3940637e-04 8.7512402e-05 3.2605643e-05 3.2541586e-05]\n",
            "This image is\n",
            " 99.94% Acne,\n",
            " 0.04% Wrinkles,             \n",
            " 0.01% Dry skin,\n",
            " 0.00% Normal skin,\n",
            " 0.00% Oily skin.\n",
            "\n",
            "oily5.jpg\n",
            "1/1 [==============================] - 1s 918ms/step\n",
            "[9.9701881e-01 4.3828263e-06 1.6426432e-04 1.0145509e-03 1.7980111e-03]\n",
            "This image is\n",
            " 99.70% Acne,\n",
            " 0.00% Wrinkles,             \n",
            " 0.02% Dry skin,\n",
            " 0.10% Normal skin,\n",
            " 0.18% Oily skin.\n"
          ]
        }
      ],
      "source": [
        "for image in os.listdir(test_ds_path + \"05 - Oily skin/\"):\n",
        "    print(\"\\n\" + image)\n",
        "    model_obj.infere_model(test_ds_path + \"05 - Oily skin/\" + image)"
      ]
    }
  ],
  "metadata": {
    "accelerator": "GPU",
    "colab": {
      "gpuType": "T4",
      "include_colab_link": true,
      "provenance": []
    },
    "gpuClass": "standard",
    "kernelspec": {
      "display_name": "Python 3",
      "language": "python",
      "name": "python3"
    },
    "language_info": {
      "codemirror_mode": {
        "name": "ipython",
        "version": 3
      },
      "file_extension": ".py",
      "mimetype": "text/x-python",
      "name": "python",
      "nbconvert_exporter": "python",
      "pygments_lexer": "ipython3",
      "version": "3.8.3"
    },
    "orig_nbformat": 4
  },
  "nbformat": 4,
  "nbformat_minor": 0
}
